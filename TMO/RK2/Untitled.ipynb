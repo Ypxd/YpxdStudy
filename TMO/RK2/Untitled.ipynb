{
 "cells": [
  {
   "cell_type": "markdown",
   "id": "67f7f448",
   "metadata": {},
   "source": [
    "# Рубежный контроль №2"
   ]
  },
  {
   "cell_type": "markdown",
   "id": "f5951373",
   "metadata": {},
   "source": [
    "## Калашников Артем Дмитриевич ИУ5-63Б"
   ]
  },
  {
   "cell_type": "markdown",
   "id": "b808debd",
   "metadata": {},
   "source": [
    "### Вариант 11"
   ]
  },
  {
   "cell_type": "markdown",
   "id": "1595cc1e",
   "metadata": {},
   "source": [
    "#### Задача:"
   ]
  },
  {
   "cell_type": "markdown",
   "id": "84fab933",
   "metadata": {},
   "source": [
    "Для заданного набора данных (по Вашему варианту) постройте модели классификации или регрессии (в зависимости от конкретной задачи, рассматриваемой в наборе данных). Для построения моделей используйте методы 1 и 2 (по варианту для Вашей группы). Оцените качество моделей на основе подходящих метрик качества (не менее двух метрик). Какие метрики качества Вы использовали и почему? Какие выводы Вы можете сделать о качестве построенных моделей? Для построения моделей необходимо выполнить требуемую предобработку данных: заполнение пропусков, кодирование категориальных признаков, и т.д."
   ]
  },
  {
   "cell_type": "markdown",
   "id": "018b7fc3",
   "metadata": {},
   "source": [
    "#### Методы для ИУ5-63Б.\n",
    "Метод №1: \"Дерево решений\".\n",
    "Метод №2: \"Случайный лес\"."
   ]
  },
  {
   "cell_type": "markdown",
   "id": "4a0777c1",
   "metadata": {},
   "source": [
    "## Импорт библиотек:"
   ]
  },
  {
   "cell_type": "code",
   "execution_count": 284,
   "id": "63581c6a",
   "metadata": {},
   "outputs": [],
   "source": [
    "import numpy as np\n",
    "import pandas as pd\n",
    "import matplotlib.pyplot as plt"
   ]
  },
  {
   "cell_type": "markdown",
   "id": "6c211784",
   "metadata": {},
   "source": [
    "## Загрузка и обработка пропусков в данных:"
   ]
  },
  {
   "cell_type": "code",
   "execution_count": 285,
   "id": "a745b1cd",
   "metadata": {},
   "outputs": [
    {
     "data": {
      "text/plain": [
       "(18207, 89)"
      ]
     },
     "execution_count": 285,
     "metadata": {},
     "output_type": "execute_result"
    }
   ],
   "source": [
    "# загрузка набора данных\n",
    "data = pd.read_csv('data.csv', sep=\",\")\n",
    "# размер набора данных\n",
    "data.shape"
   ]
  },
  {
   "cell_type": "code",
   "execution_count": 286,
   "id": "0c15573a",
   "metadata": {},
   "outputs": [
    {
     "data": {
      "text/html": [
       "<div>\n",
       "<style scoped>\n",
       "    .dataframe tbody tr th:only-of-type {\n",
       "        vertical-align: middle;\n",
       "    }\n",
       "\n",
       "    .dataframe tbody tr th {\n",
       "        vertical-align: top;\n",
       "    }\n",
       "\n",
       "    .dataframe thead th {\n",
       "        text-align: right;\n",
       "    }\n",
       "</style>\n",
       "<table border=\"1\" class=\"dataframe\">\n",
       "  <thead>\n",
       "    <tr style=\"text-align: right;\">\n",
       "      <th></th>\n",
       "      <th>Unnamed: 0</th>\n",
       "      <th>ID</th>\n",
       "      <th>Name</th>\n",
       "      <th>Age</th>\n",
       "      <th>Photo</th>\n",
       "      <th>Nationality</th>\n",
       "      <th>Flag</th>\n",
       "      <th>Overall</th>\n",
       "      <th>Potential</th>\n",
       "      <th>Club</th>\n",
       "      <th>...</th>\n",
       "      <th>Composure</th>\n",
       "      <th>Marking</th>\n",
       "      <th>StandingTackle</th>\n",
       "      <th>SlidingTackle</th>\n",
       "      <th>GKDiving</th>\n",
       "      <th>GKHandling</th>\n",
       "      <th>GKKicking</th>\n",
       "      <th>GKPositioning</th>\n",
       "      <th>GKReflexes</th>\n",
       "      <th>Release Clause</th>\n",
       "    </tr>\n",
       "  </thead>\n",
       "  <tbody>\n",
       "    <tr>\n",
       "      <th>0</th>\n",
       "      <td>0</td>\n",
       "      <td>158023</td>\n",
       "      <td>L. Messi</td>\n",
       "      <td>31</td>\n",
       "      <td>https://cdn.sofifa.org/players/4/19/158023.png</td>\n",
       "      <td>Argentina</td>\n",
       "      <td>https://cdn.sofifa.org/flags/52.png</td>\n",
       "      <td>94</td>\n",
       "      <td>94</td>\n",
       "      <td>FC Barcelona</td>\n",
       "      <td>...</td>\n",
       "      <td>96.0</td>\n",
       "      <td>33.0</td>\n",
       "      <td>28.0</td>\n",
       "      <td>26.0</td>\n",
       "      <td>6.0</td>\n",
       "      <td>11.0</td>\n",
       "      <td>15.0</td>\n",
       "      <td>14.0</td>\n",
       "      <td>8.0</td>\n",
       "      <td>€226.5M</td>\n",
       "    </tr>\n",
       "    <tr>\n",
       "      <th>1</th>\n",
       "      <td>1</td>\n",
       "      <td>20801</td>\n",
       "      <td>Cristiano Ronaldo</td>\n",
       "      <td>33</td>\n",
       "      <td>https://cdn.sofifa.org/players/4/19/20801.png</td>\n",
       "      <td>Portugal</td>\n",
       "      <td>https://cdn.sofifa.org/flags/38.png</td>\n",
       "      <td>94</td>\n",
       "      <td>94</td>\n",
       "      <td>Juventus</td>\n",
       "      <td>...</td>\n",
       "      <td>95.0</td>\n",
       "      <td>28.0</td>\n",
       "      <td>31.0</td>\n",
       "      <td>23.0</td>\n",
       "      <td>7.0</td>\n",
       "      <td>11.0</td>\n",
       "      <td>15.0</td>\n",
       "      <td>14.0</td>\n",
       "      <td>11.0</td>\n",
       "      <td>€127.1M</td>\n",
       "    </tr>\n",
       "    <tr>\n",
       "      <th>2</th>\n",
       "      <td>2</td>\n",
       "      <td>190871</td>\n",
       "      <td>Neymar Jr</td>\n",
       "      <td>26</td>\n",
       "      <td>https://cdn.sofifa.org/players/4/19/190871.png</td>\n",
       "      <td>Brazil</td>\n",
       "      <td>https://cdn.sofifa.org/flags/54.png</td>\n",
       "      <td>92</td>\n",
       "      <td>93</td>\n",
       "      <td>Paris Saint-Germain</td>\n",
       "      <td>...</td>\n",
       "      <td>94.0</td>\n",
       "      <td>27.0</td>\n",
       "      <td>24.0</td>\n",
       "      <td>33.0</td>\n",
       "      <td>9.0</td>\n",
       "      <td>9.0</td>\n",
       "      <td>15.0</td>\n",
       "      <td>15.0</td>\n",
       "      <td>11.0</td>\n",
       "      <td>€228.1M</td>\n",
       "    </tr>\n",
       "    <tr>\n",
       "      <th>3</th>\n",
       "      <td>3</td>\n",
       "      <td>193080</td>\n",
       "      <td>De Gea</td>\n",
       "      <td>27</td>\n",
       "      <td>https://cdn.sofifa.org/players/4/19/193080.png</td>\n",
       "      <td>Spain</td>\n",
       "      <td>https://cdn.sofifa.org/flags/45.png</td>\n",
       "      <td>91</td>\n",
       "      <td>93</td>\n",
       "      <td>Manchester United</td>\n",
       "      <td>...</td>\n",
       "      <td>68.0</td>\n",
       "      <td>15.0</td>\n",
       "      <td>21.0</td>\n",
       "      <td>13.0</td>\n",
       "      <td>90.0</td>\n",
       "      <td>85.0</td>\n",
       "      <td>87.0</td>\n",
       "      <td>88.0</td>\n",
       "      <td>94.0</td>\n",
       "      <td>€138.6M</td>\n",
       "    </tr>\n",
       "    <tr>\n",
       "      <th>4</th>\n",
       "      <td>4</td>\n",
       "      <td>192985</td>\n",
       "      <td>K. De Bruyne</td>\n",
       "      <td>27</td>\n",
       "      <td>https://cdn.sofifa.org/players/4/19/192985.png</td>\n",
       "      <td>Belgium</td>\n",
       "      <td>https://cdn.sofifa.org/flags/7.png</td>\n",
       "      <td>91</td>\n",
       "      <td>92</td>\n",
       "      <td>Manchester City</td>\n",
       "      <td>...</td>\n",
       "      <td>88.0</td>\n",
       "      <td>68.0</td>\n",
       "      <td>58.0</td>\n",
       "      <td>51.0</td>\n",
       "      <td>15.0</td>\n",
       "      <td>13.0</td>\n",
       "      <td>5.0</td>\n",
       "      <td>10.0</td>\n",
       "      <td>13.0</td>\n",
       "      <td>€196.4M</td>\n",
       "    </tr>\n",
       "  </tbody>\n",
       "</table>\n",
       "<p>5 rows × 89 columns</p>\n",
       "</div>"
      ],
      "text/plain": [
       "   Unnamed: 0      ID               Name  Age  \\\n",
       "0           0  158023           L. Messi   31   \n",
       "1           1   20801  Cristiano Ronaldo   33   \n",
       "2           2  190871          Neymar Jr   26   \n",
       "3           3  193080             De Gea   27   \n",
       "4           4  192985       K. De Bruyne   27   \n",
       "\n",
       "                                            Photo Nationality  \\\n",
       "0  https://cdn.sofifa.org/players/4/19/158023.png   Argentina   \n",
       "1   https://cdn.sofifa.org/players/4/19/20801.png    Portugal   \n",
       "2  https://cdn.sofifa.org/players/4/19/190871.png      Brazil   \n",
       "3  https://cdn.sofifa.org/players/4/19/193080.png       Spain   \n",
       "4  https://cdn.sofifa.org/players/4/19/192985.png     Belgium   \n",
       "\n",
       "                                  Flag  Overall  Potential  \\\n",
       "0  https://cdn.sofifa.org/flags/52.png       94         94   \n",
       "1  https://cdn.sofifa.org/flags/38.png       94         94   \n",
       "2  https://cdn.sofifa.org/flags/54.png       92         93   \n",
       "3  https://cdn.sofifa.org/flags/45.png       91         93   \n",
       "4   https://cdn.sofifa.org/flags/7.png       91         92   \n",
       "\n",
       "                  Club  ... Composure Marking StandingTackle  SlidingTackle  \\\n",
       "0         FC Barcelona  ...      96.0    33.0           28.0           26.0   \n",
       "1             Juventus  ...      95.0    28.0           31.0           23.0   \n",
       "2  Paris Saint-Germain  ...      94.0    27.0           24.0           33.0   \n",
       "3    Manchester United  ...      68.0    15.0           21.0           13.0   \n",
       "4      Manchester City  ...      88.0    68.0           58.0           51.0   \n",
       "\n",
       "  GKDiving  GKHandling  GKKicking  GKPositioning GKReflexes Release Clause  \n",
       "0      6.0        11.0       15.0           14.0        8.0        €226.5M  \n",
       "1      7.0        11.0       15.0           14.0       11.0        €127.1M  \n",
       "2      9.0         9.0       15.0           15.0       11.0        €228.1M  \n",
       "3     90.0        85.0       87.0           88.0       94.0        €138.6M  \n",
       "4     15.0        13.0        5.0           10.0       13.0        €196.4M  \n",
       "\n",
       "[5 rows x 89 columns]"
      ]
     },
     "execution_count": 286,
     "metadata": {},
     "output_type": "execute_result"
    }
   ],
   "source": [
    "# первые 5 строк набора данных\n",
    "data.head()"
   ]
  },
  {
   "cell_type": "code",
   "execution_count": 287,
   "id": "c875df8d",
   "metadata": {},
   "outputs": [],
   "source": [
    "parts = np.split(data, [28], axis=1)\n",
    "data = parts[0]\n",
    "parts = np.split(data, [500], axis=0)\n",
    "data = parts[0]"
   ]
  },
  {
   "cell_type": "code",
   "execution_count": 288,
   "id": "3a77ac91",
   "metadata": {},
   "outputs": [
    {
     "data": {
      "text/plain": [
       "Unnamed: 0                  object\n",
       "ID                          object\n",
       "Name                        object\n",
       "Age                         object\n",
       "Photo                       object\n",
       "Nationality                 object\n",
       "Flag                        object\n",
       "Overall                     object\n",
       "Potential                   object\n",
       "Club                        object\n",
       "Club Logo                   object\n",
       "Value                       object\n",
       "Wage                        object\n",
       "Special                     object\n",
       "Preferred Foot              object\n",
       "International Reputation    object\n",
       "Weak Foot                   object\n",
       "Skill Moves                 object\n",
       "Work Rate                   object\n",
       "Body Type                   object\n",
       "Real Face                   object\n",
       "Position                    object\n",
       "Jersey Number               object\n",
       "Joined                      object\n",
       "Loaned From                 object\n",
       "Contract Valid Until        object\n",
       "Height                      object\n",
       "Weight                      object\n",
       "dtype: object"
      ]
     },
     "execution_count": 288,
     "metadata": {},
     "output_type": "execute_result"
    }
   ],
   "source": [
    "# список колонок с типами данных\n",
    "data.dtypes"
   ]
  },
  {
   "cell_type": "code",
   "execution_count": 289,
   "id": "1c18fc31",
   "metadata": {},
   "outputs": [],
   "source": [
    "data = data.drop('Unnamed: 0', axis = 1)\n",
    "data = data.drop('Name', axis = 1)\n",
    "data = data.drop('Photo', axis = 1)\n",
    "data = data.drop('Flag', axis = 1)\n",
    "data = data.drop('Club Logo', axis = 1)\n",
    "data = data.drop('Loaned From', axis = 1)\n",
    "data = data.drop('Work Rate', axis = 1)\n",
    "data = data.drop('Nationality', axis = 1)\n",
    "data = data.drop('Club', axis = 1)\n",
    "data = data.drop('Body Type', axis = 1)\n",
    "data = data.drop('Real Face', axis = 1)\n",
    "data = data.drop('Position', axis = 1)\n",
    "data = data.drop('Joined', axis = 1)\n",
    "data = data.drop('Contract Valid Until', axis = 1)"
   ]
  },
  {
   "cell_type": "code",
   "execution_count": 290,
   "id": "b55e68ef",
   "metadata": {},
   "outputs": [
    {
     "data": {
      "text/plain": [
       "ID                          object\n",
       "Age                         object\n",
       "Overall                     object\n",
       "Potential                   object\n",
       "Value                       object\n",
       "Wage                        object\n",
       "Special                     object\n",
       "Preferred Foot              object\n",
       "International Reputation    object\n",
       "Weak Foot                   object\n",
       "Skill Moves                 object\n",
       "Jersey Number               object\n",
       "Height                      object\n",
       "Weight                      object\n",
       "dtype: object"
      ]
     },
     "execution_count": 290,
     "metadata": {},
     "output_type": "execute_result"
    }
   ],
   "source": [
    "data.dtypes"
   ]
  },
  {
   "cell_type": "code",
   "execution_count": 291,
   "id": "a73a5f69",
   "metadata": {},
   "outputs": [],
   "source": [
    "dct = {'Left': 0, 'Right': 1}\n",
    "data['Preferred_Foot']=data['Preferred Foot'].map(dct)\n",
    "data\n",
    "data = data.drop('Preferred Foot', axis = 1)"
   ]
  },
  {
   "cell_type": "code",
   "execution_count": 292,
   "id": "e265c685",
   "metadata": {},
   "outputs": [
    {
     "data": {
      "text/plain": [
       "((500, 14), (500, 14))"
      ]
     },
     "execution_count": 292,
     "metadata": {},
     "output_type": "execute_result"
    }
   ],
   "source": [
    "# Удаление строк, содержащих пустые значения\n",
    "data_new = data.dropna(axis=0, how='any')\n",
    "(data.shape, data_new.shape)"
   ]
  },
  {
   "cell_type": "code",
   "execution_count": 293,
   "id": "c32a2c7b",
   "metadata": {},
   "outputs": [
    {
     "data": {
      "text/plain": [
       "ID                          0\n",
       "Age                         0\n",
       "Overall                     0\n",
       "Potential                   0\n",
       "Value                       0\n",
       "Wage                        0\n",
       "Special                     0\n",
       "International Reputation    0\n",
       "Weak Foot                   0\n",
       "Skill Moves                 0\n",
       "Jersey Number               0\n",
       "Height                      0\n",
       "Weight                      0\n",
       "Preferred_Foot              0\n",
       "dtype: int64"
      ]
     },
     "execution_count": 293,
     "metadata": {},
     "output_type": "execute_result"
    }
   ],
   "source": [
    "# проверим, есть ли пропущенные значения\n",
    "data_new.isnull().sum()"
   ]
  },
  {
   "cell_type": "code",
   "execution_count": 294,
   "id": "fe784057",
   "metadata": {},
   "outputs": [
    {
     "data": {
      "text/html": [
       "<div>\n",
       "<style scoped>\n",
       "    .dataframe tbody tr th:only-of-type {\n",
       "        vertical-align: middle;\n",
       "    }\n",
       "\n",
       "    .dataframe tbody tr th {\n",
       "        vertical-align: top;\n",
       "    }\n",
       "\n",
       "    .dataframe thead th {\n",
       "        text-align: right;\n",
       "    }\n",
       "</style>\n",
       "<table border=\"1\" class=\"dataframe\">\n",
       "  <thead>\n",
       "    <tr style=\"text-align: right;\">\n",
       "      <th></th>\n",
       "      <th>ID</th>\n",
       "      <th>Age</th>\n",
       "      <th>Overall</th>\n",
       "      <th>Potential</th>\n",
       "      <th>Value</th>\n",
       "      <th>Wage</th>\n",
       "      <th>Special</th>\n",
       "      <th>International Reputation</th>\n",
       "      <th>Weak Foot</th>\n",
       "      <th>Skill Moves</th>\n",
       "      <th>Jersey Number</th>\n",
       "      <th>Height</th>\n",
       "      <th>Weight</th>\n",
       "      <th>Preferred_Foot</th>\n",
       "    </tr>\n",
       "  </thead>\n",
       "  <tbody>\n",
       "    <tr>\n",
       "      <th>0</th>\n",
       "      <td>158023</td>\n",
       "      <td>31</td>\n",
       "      <td>94</td>\n",
       "      <td>94</td>\n",
       "      <td>€110.5M</td>\n",
       "      <td>€565K</td>\n",
       "      <td>2202</td>\n",
       "      <td>5.0</td>\n",
       "      <td>4.0</td>\n",
       "      <td>4.0</td>\n",
       "      <td>10.0</td>\n",
       "      <td>5'7</td>\n",
       "      <td>159lbs</td>\n",
       "      <td>0</td>\n",
       "    </tr>\n",
       "    <tr>\n",
       "      <th>1</th>\n",
       "      <td>20801</td>\n",
       "      <td>33</td>\n",
       "      <td>94</td>\n",
       "      <td>94</td>\n",
       "      <td>€77M</td>\n",
       "      <td>€405K</td>\n",
       "      <td>2228</td>\n",
       "      <td>5.0</td>\n",
       "      <td>4.0</td>\n",
       "      <td>5.0</td>\n",
       "      <td>7.0</td>\n",
       "      <td>6'2</td>\n",
       "      <td>183lbs</td>\n",
       "      <td>1</td>\n",
       "    </tr>\n",
       "    <tr>\n",
       "      <th>2</th>\n",
       "      <td>190871</td>\n",
       "      <td>26</td>\n",
       "      <td>92</td>\n",
       "      <td>93</td>\n",
       "      <td>€118.5M</td>\n",
       "      <td>€290K</td>\n",
       "      <td>2143</td>\n",
       "      <td>5.0</td>\n",
       "      <td>5.0</td>\n",
       "      <td>5.0</td>\n",
       "      <td>10.0</td>\n",
       "      <td>5'9</td>\n",
       "      <td>150lbs</td>\n",
       "      <td>1</td>\n",
       "    </tr>\n",
       "    <tr>\n",
       "      <th>3</th>\n",
       "      <td>193080</td>\n",
       "      <td>27</td>\n",
       "      <td>91</td>\n",
       "      <td>93</td>\n",
       "      <td>€72M</td>\n",
       "      <td>€260K</td>\n",
       "      <td>1471</td>\n",
       "      <td>4.0</td>\n",
       "      <td>3.0</td>\n",
       "      <td>1.0</td>\n",
       "      <td>1.0</td>\n",
       "      <td>6'4</td>\n",
       "      <td>168lbs</td>\n",
       "      <td>1</td>\n",
       "    </tr>\n",
       "    <tr>\n",
       "      <th>4</th>\n",
       "      <td>192985</td>\n",
       "      <td>27</td>\n",
       "      <td>91</td>\n",
       "      <td>92</td>\n",
       "      <td>€102M</td>\n",
       "      <td>€355K</td>\n",
       "      <td>2281</td>\n",
       "      <td>4.0</td>\n",
       "      <td>5.0</td>\n",
       "      <td>4.0</td>\n",
       "      <td>7.0</td>\n",
       "      <td>5'11</td>\n",
       "      <td>154lbs</td>\n",
       "      <td>1</td>\n",
       "    </tr>\n",
       "  </tbody>\n",
       "</table>\n",
       "</div>"
      ],
      "text/plain": [
       "       ID Age Overall Potential    Value   Wage Special  \\\n",
       "0  158023  31      94        94  €110.5M  €565K    2202   \n",
       "1   20801  33      94        94     €77M  €405K    2228   \n",
       "2  190871  26      92        93  €118.5M  €290K    2143   \n",
       "3  193080  27      91        93     €72M  €260K    1471   \n",
       "4  192985  27      91        92    €102M  €355K    2281   \n",
       "\n",
       "  International Reputation Weak Foot Skill Moves Jersey Number Height  Weight  \\\n",
       "0                      5.0       4.0         4.0          10.0    5'7  159lbs   \n",
       "1                      5.0       4.0         5.0           7.0    6'2  183lbs   \n",
       "2                      5.0       5.0         5.0          10.0    5'9  150lbs   \n",
       "3                      4.0       3.0         1.0           1.0    6'4  168lbs   \n",
       "4                      4.0       5.0         4.0           7.0   5'11  154lbs   \n",
       "\n",
       "   Preferred_Foot  \n",
       "0               0  \n",
       "1               1  \n",
       "2               1  \n",
       "3               1  \n",
       "4               1  "
      ]
     },
     "execution_count": 294,
     "metadata": {},
     "output_type": "execute_result"
    }
   ],
   "source": [
    "data=data_new\n",
    "data.head()"
   ]
  },
  {
   "cell_type": "code",
   "execution_count": 295,
   "id": "fe49c9d1",
   "metadata": {},
   "outputs": [
    {
     "data": {
      "text/plain": [
       "(500, 14)"
      ]
     },
     "execution_count": 295,
     "metadata": {},
     "output_type": "execute_result"
    }
   ],
   "source": [
    "data.shape"
   ]
  },
  {
   "cell_type": "markdown",
   "id": "aaacd64f",
   "metadata": {},
   "source": [
    "## Масштабирование данных:"
   ]
  },
  {
   "cell_type": "markdown",
   "id": "31b21041",
   "metadata": {},
   "source": [
    "### MinMax масштабирование"
   ]
  },
  {
   "cell_type": "code",
   "execution_count": 296,
   "id": "31ccdbd0",
   "metadata": {},
   "outputs": [],
   "source": [
    "from sklearn.preprocessing import MinMaxScaler, StandardScaler, Normalizer"
   ]
  },
  {
   "cell_type": "code",
   "execution_count": 297,
   "id": "d8828ff4",
   "metadata": {},
   "outputs": [],
   "source": [
    "# Числовые колонки для масштабирования\n",
    "colums = ['ID','Age','Overall','Potential','Special','International Reputation','Weak Foot','Skill Moves','Jersey Number']\n",
    "scale = colums"
   ]
  },
  {
   "cell_type": "code",
   "execution_count": 298,
   "id": "0cad6687",
   "metadata": {},
   "outputs": [],
   "source": [
    "sc = MinMaxScaler()\n",
    "scd = sc.fit_transform(data[scale])"
   ]
  },
  {
   "cell_type": "code",
   "execution_count": 299,
   "id": "38c6fd85",
   "metadata": {},
   "outputs": [],
   "source": [
    "# Добавим масштабированные данные в набор данных\n",
    "for i in range(len(scale)):\n",
    "    col = scale[i]\n",
    "    new_name = col + '_scaled'\n",
    "    data[new_name] = scd[:,i]"
   ]
  },
  {
   "cell_type": "code",
   "execution_count": 300,
   "id": "e31109a4",
   "metadata": {},
   "outputs": [
    {
     "data": {
      "text/html": [
       "<div>\n",
       "<style scoped>\n",
       "    .dataframe tbody tr th:only-of-type {\n",
       "        vertical-align: middle;\n",
       "    }\n",
       "\n",
       "    .dataframe tbody tr th {\n",
       "        vertical-align: top;\n",
       "    }\n",
       "\n",
       "    .dataframe thead th {\n",
       "        text-align: right;\n",
       "    }\n",
       "</style>\n",
       "<table border=\"1\" class=\"dataframe\">\n",
       "  <thead>\n",
       "    <tr style=\"text-align: right;\">\n",
       "      <th></th>\n",
       "      <th>ID</th>\n",
       "      <th>Age</th>\n",
       "      <th>Overall</th>\n",
       "      <th>Potential</th>\n",
       "      <th>Value</th>\n",
       "      <th>Wage</th>\n",
       "      <th>Special</th>\n",
       "      <th>International Reputation</th>\n",
       "      <th>Weak Foot</th>\n",
       "      <th>Skill Moves</th>\n",
       "      <th>...</th>\n",
       "      <th>Preferred_Foot</th>\n",
       "      <th>ID_scaled</th>\n",
       "      <th>Age_scaled</th>\n",
       "      <th>Overall_scaled</th>\n",
       "      <th>Potential_scaled</th>\n",
       "      <th>Special_scaled</th>\n",
       "      <th>International Reputation_scaled</th>\n",
       "      <th>Weak Foot_scaled</th>\n",
       "      <th>Skill Moves_scaled</th>\n",
       "      <th>Jersey Number_scaled</th>\n",
       "    </tr>\n",
       "  </thead>\n",
       "  <tbody>\n",
       "    <tr>\n",
       "      <th>0</th>\n",
       "      <td>158023</td>\n",
       "      <td>31</td>\n",
       "      <td>94</td>\n",
       "      <td>94</td>\n",
       "      <td>€110.5M</td>\n",
       "      <td>€565K</td>\n",
       "      <td>2202</td>\n",
       "      <td>5.0</td>\n",
       "      <td>4.0</td>\n",
       "      <td>4.0</td>\n",
       "      <td>...</td>\n",
       "      <td>0</td>\n",
       "      <td>0.660554</td>\n",
       "      <td>0.590909</td>\n",
       "      <td>1.000000</td>\n",
       "      <td>0.933333</td>\n",
       "      <td>0.888025</td>\n",
       "      <td>1.00</td>\n",
       "      <td>0.75</td>\n",
       "      <td>0.75</td>\n",
       "      <td>0.098901</td>\n",
       "    </tr>\n",
       "    <tr>\n",
       "      <th>1</th>\n",
       "      <td>20801</td>\n",
       "      <td>33</td>\n",
       "      <td>94</td>\n",
       "      <td>94</td>\n",
       "      <td>€77M</td>\n",
       "      <td>€405K</td>\n",
       "      <td>2228</td>\n",
       "      <td>5.0</td>\n",
       "      <td>4.0</td>\n",
       "      <td>5.0</td>\n",
       "      <td>...</td>\n",
       "      <td>1</td>\n",
       "      <td>0.086802</td>\n",
       "      <td>0.681818</td>\n",
       "      <td>1.000000</td>\n",
       "      <td>0.933333</td>\n",
       "      <td>0.908243</td>\n",
       "      <td>1.00</td>\n",
       "      <td>0.75</td>\n",
       "      <td>1.00</td>\n",
       "      <td>0.065934</td>\n",
       "    </tr>\n",
       "    <tr>\n",
       "      <th>2</th>\n",
       "      <td>190871</td>\n",
       "      <td>26</td>\n",
       "      <td>92</td>\n",
       "      <td>93</td>\n",
       "      <td>€118.5M</td>\n",
       "      <td>€290K</td>\n",
       "      <td>2143</td>\n",
       "      <td>5.0</td>\n",
       "      <td>5.0</td>\n",
       "      <td>5.0</td>\n",
       "      <td>...</td>\n",
       "      <td>1</td>\n",
       "      <td>0.797898</td>\n",
       "      <td>0.363636</td>\n",
       "      <td>0.857143</td>\n",
       "      <td>0.866667</td>\n",
       "      <td>0.842146</td>\n",
       "      <td>1.00</td>\n",
       "      <td>1.00</td>\n",
       "      <td>1.00</td>\n",
       "      <td>0.098901</td>\n",
       "    </tr>\n",
       "    <tr>\n",
       "      <th>3</th>\n",
       "      <td>193080</td>\n",
       "      <td>27</td>\n",
       "      <td>91</td>\n",
       "      <td>93</td>\n",
       "      <td>€72M</td>\n",
       "      <td>€260K</td>\n",
       "      <td>1471</td>\n",
       "      <td>4.0</td>\n",
       "      <td>3.0</td>\n",
       "      <td>1.0</td>\n",
       "      <td>...</td>\n",
       "      <td>1</td>\n",
       "      <td>0.807134</td>\n",
       "      <td>0.409091</td>\n",
       "      <td>0.785714</td>\n",
       "      <td>0.866667</td>\n",
       "      <td>0.319596</td>\n",
       "      <td>0.75</td>\n",
       "      <td>0.50</td>\n",
       "      <td>0.00</td>\n",
       "      <td>0.000000</td>\n",
       "    </tr>\n",
       "    <tr>\n",
       "      <th>4</th>\n",
       "      <td>192985</td>\n",
       "      <td>27</td>\n",
       "      <td>91</td>\n",
       "      <td>92</td>\n",
       "      <td>€102M</td>\n",
       "      <td>€355K</td>\n",
       "      <td>2281</td>\n",
       "      <td>4.0</td>\n",
       "      <td>5.0</td>\n",
       "      <td>4.0</td>\n",
       "      <td>...</td>\n",
       "      <td>1</td>\n",
       "      <td>0.806737</td>\n",
       "      <td>0.409091</td>\n",
       "      <td>0.785714</td>\n",
       "      <td>0.800000</td>\n",
       "      <td>0.949456</td>\n",
       "      <td>0.75</td>\n",
       "      <td>1.00</td>\n",
       "      <td>0.75</td>\n",
       "      <td>0.065934</td>\n",
       "    </tr>\n",
       "  </tbody>\n",
       "</table>\n",
       "<p>5 rows × 23 columns</p>\n",
       "</div>"
      ],
      "text/plain": [
       "       ID Age Overall Potential    Value   Wage Special  \\\n",
       "0  158023  31      94        94  €110.5M  €565K    2202   \n",
       "1   20801  33      94        94     €77M  €405K    2228   \n",
       "2  190871  26      92        93  €118.5M  €290K    2143   \n",
       "3  193080  27      91        93     €72M  €260K    1471   \n",
       "4  192985  27      91        92    €102M  €355K    2281   \n",
       "\n",
       "  International Reputation Weak Foot Skill Moves  ... Preferred_Foot  \\\n",
       "0                      5.0       4.0         4.0  ...              0   \n",
       "1                      5.0       4.0         5.0  ...              1   \n",
       "2                      5.0       5.0         5.0  ...              1   \n",
       "3                      4.0       3.0         1.0  ...              1   \n",
       "4                      4.0       5.0         4.0  ...              1   \n",
       "\n",
       "  ID_scaled Age_scaled  Overall_scaled  Potential_scaled  Special_scaled  \\\n",
       "0  0.660554   0.590909        1.000000          0.933333        0.888025   \n",
       "1  0.086802   0.681818        1.000000          0.933333        0.908243   \n",
       "2  0.797898   0.363636        0.857143          0.866667        0.842146   \n",
       "3  0.807134   0.409091        0.785714          0.866667        0.319596   \n",
       "4  0.806737   0.409091        0.785714          0.800000        0.949456   \n",
       "\n",
       "   International Reputation_scaled  Weak Foot_scaled  Skill Moves_scaled  \\\n",
       "0                             1.00              0.75                0.75   \n",
       "1                             1.00              0.75                1.00   \n",
       "2                             1.00              1.00                1.00   \n",
       "3                             0.75              0.50                0.00   \n",
       "4                             0.75              1.00                0.75   \n",
       "\n",
       "   Jersey Number_scaled  \n",
       "0              0.098901  \n",
       "1              0.065934  \n",
       "2              0.098901  \n",
       "3              0.000000  \n",
       "4              0.065934  \n",
       "\n",
       "[5 rows x 23 columns]"
      ]
     },
     "execution_count": 300,
     "metadata": {},
     "output_type": "execute_result"
    }
   ],
   "source": [
    "data.head()"
   ]
  },
  {
   "cell_type": "code",
   "execution_count": 301,
   "id": "c9b40d7f",
   "metadata": {},
   "outputs": [
    {
     "data": {
      "image/png": "[encoded data removed]",
      "text/plain": [
       "<Figure size 576x216 with 2 Axes>"
      ]
     },
     "metadata": {
      "needs_background": "light"
     },
     "output_type": "display_data"
    },
    {
     "data": {
      "image/png": "[encoded data removed]",
      "text/plain": [
       "<Figure size 576x216 with 2 Axes>"
      ]
     },
     "metadata": {
      "needs_background": "light"
     },
     "output_type": "display_data"
    },
    {
     "data": {
      "image/png": "[encoded data removed]",
      "text/plain": [
       "<Figure size 576x216 with 2 Axes>"
      ]
     },
     "metadata": {
      "needs_background": "light"
     },
     "output_type": "display_data"
    },
    {
     "data": {
      "image/png": "[encoded data removed]",
      "text/plain": [
       "<Figure size 576x216 with 2 Axes>"
      ]
     },
     "metadata": {
      "needs_background": "light"
     },
     "output_type": "display_data"
    },
    {
     "data": {
      "image/png": "[encoded data removed]",
      "text/plain": [
       "<Figure size 576x216 with 2 Axes>"
      ]
     },
     "metadata": {
      "needs_background": "light"
     },
     "output_type": "display_data"
    },
    {
     "data": {
      "image/png": "[encoded data removed]",
      "text/plain": [
       "<Figure size 576x216 with 2 Axes>"
      ]
     },
     "metadata": {
      "needs_background": "light"
     },
     "output_type": "display_data"
    },
    {
     "data": {
      "image/png": "[encoded data removed]",
      "text/plain": [
       "<Figure size 576x216 with 2 Axes>"
      ]
     },
     "metadata": {
      "needs_background": "light"
     },
     "output_type": "display_data"
    },
    {
     "data": {
      "image/png": "[encoded data removed]",
      "text/plain": [
       "<Figure size 576x216 with 2 Axes>"
      ]
     },
     "metadata": {
      "needs_background": "light"
     },
     "output_type": "display_data"
    },
    {
     "data": {
      "image/png": "[encoded data removed]",
      "text/plain": [
       "<Figure size 576x216 with 2 Axes>"
      ]
     },
     "metadata": {
      "needs_background": "light"
     },
     "output_type": "display_data"
    }
   ],
   "source": [
    "for col in scale:\n",
    "    colsc = col + '_scaled'\n",
    "\n",
    "    fig, ax = plt.subplots(1, 2, figsize=(8,3))\n",
    "    ax[0].hist(data[col], 50)\n",
    "    ax[1].hist(data[colsc], 50)\n",
    "    ax[0].title.set_text(col)\n",
    "    ax[1].title.set_text(colsc)\n",
    "    plt.show()"
   ]
  },
  {
   "cell_type": "code",
   "execution_count": 302,
   "id": "26e9ce8a",
   "metadata": {},
   "outputs": [],
   "source": [
    "data.drop(colums, axis = 1, inplace = True)"
   ]
  },
  {
   "cell_type": "code",
   "execution_count": 303,
   "id": "31989846",
   "metadata": {},
   "outputs": [],
   "source": [
    "data = data.drop('Height', axis = 1)\n",
    "data['Value'] = data.Value.str.replace('€','')\n",
    "data['Wage'] = data.Wage.str.replace('€','')\n",
    "data['Value'] = data.Value.str.replace('M','')\n",
    "data['Wage'] = data.Wage.str.replace('K','')\n",
    "data['Weight'] = data.Weight.str.replace('lbs','')"
   ]
  },
  {
   "cell_type": "code",
   "execution_count": 304,
   "id": "e5d724ec",
   "metadata": {},
   "outputs": [
    {
     "data": {
      "text/html": [
       "<div>\n",
       "<style scoped>\n",
       "    .dataframe tbody tr th:only-of-type {\n",
       "        vertical-align: middle;\n",
       "    }\n",
       "\n",
       "    .dataframe tbody tr th {\n",
       "        vertical-align: top;\n",
       "    }\n",
       "\n",
       "    .dataframe thead th {\n",
       "        text-align: right;\n",
       "    }\n",
       "</style>\n",
       "<table border=\"1\" class=\"dataframe\">\n",
       "  <thead>\n",
       "    <tr style=\"text-align: right;\">\n",
       "      <th></th>\n",
       "      <th>Value</th>\n",
       "      <th>Wage</th>\n",
       "      <th>Weight</th>\n",
       "      <th>Preferred_Foot</th>\n",
       "      <th>ID_scaled</th>\n",
       "      <th>Age_scaled</th>\n",
       "      <th>Overall_scaled</th>\n",
       "      <th>Potential_scaled</th>\n",
       "      <th>Special_scaled</th>\n",
       "      <th>International Reputation_scaled</th>\n",
       "      <th>Weak Foot_scaled</th>\n",
       "      <th>Skill Moves_scaled</th>\n",
       "      <th>Jersey Number_scaled</th>\n",
       "    </tr>\n",
       "  </thead>\n",
       "  <tbody>\n",
       "    <tr>\n",
       "      <th>0</th>\n",
       "      <td>110.5</td>\n",
       "      <td>565</td>\n",
       "      <td>159</td>\n",
       "      <td>0</td>\n",
       "      <td>0.660554</td>\n",
       "      <td>0.590909</td>\n",
       "      <td>1.000000</td>\n",
       "      <td>0.933333</td>\n",
       "      <td>0.888025</td>\n",
       "      <td>1.00</td>\n",
       "      <td>0.75</td>\n",
       "      <td>0.75</td>\n",
       "      <td>0.098901</td>\n",
       "    </tr>\n",
       "    <tr>\n",
       "      <th>1</th>\n",
       "      <td>77</td>\n",
       "      <td>405</td>\n",
       "      <td>183</td>\n",
       "      <td>1</td>\n",
       "      <td>0.086802</td>\n",
       "      <td>0.681818</td>\n",
       "      <td>1.000000</td>\n",
       "      <td>0.933333</td>\n",
       "      <td>0.908243</td>\n",
       "      <td>1.00</td>\n",
       "      <td>0.75</td>\n",
       "      <td>1.00</td>\n",
       "      <td>0.065934</td>\n",
       "    </tr>\n",
       "    <tr>\n",
       "      <th>2</th>\n",
       "      <td>118.5</td>\n",
       "      <td>290</td>\n",
       "      <td>150</td>\n",
       "      <td>1</td>\n",
       "      <td>0.797898</td>\n",
       "      <td>0.363636</td>\n",
       "      <td>0.857143</td>\n",
       "      <td>0.866667</td>\n",
       "      <td>0.842146</td>\n",
       "      <td>1.00</td>\n",
       "      <td>1.00</td>\n",
       "      <td>1.00</td>\n",
       "      <td>0.098901</td>\n",
       "    </tr>\n",
       "    <tr>\n",
       "      <th>3</th>\n",
       "      <td>72</td>\n",
       "      <td>260</td>\n",
       "      <td>168</td>\n",
       "      <td>1</td>\n",
       "      <td>0.807134</td>\n",
       "      <td>0.409091</td>\n",
       "      <td>0.785714</td>\n",
       "      <td>0.866667</td>\n",
       "      <td>0.319596</td>\n",
       "      <td>0.75</td>\n",
       "      <td>0.50</td>\n",
       "      <td>0.00</td>\n",
       "      <td>0.000000</td>\n",
       "    </tr>\n",
       "    <tr>\n",
       "      <th>4</th>\n",
       "      <td>102</td>\n",
       "      <td>355</td>\n",
       "      <td>154</td>\n",
       "      <td>1</td>\n",
       "      <td>0.806737</td>\n",
       "      <td>0.409091</td>\n",
       "      <td>0.785714</td>\n",
       "      <td>0.800000</td>\n",
       "      <td>0.949456</td>\n",
       "      <td>0.75</td>\n",
       "      <td>1.00</td>\n",
       "      <td>0.75</td>\n",
       "      <td>0.065934</td>\n",
       "    </tr>\n",
       "  </tbody>\n",
       "</table>\n",
       "</div>"
      ],
      "text/plain": [
       "   Value Wage Weight  Preferred_Foot  ID_scaled  Age_scaled  Overall_scaled  \\\n",
       "0  110.5  565    159               0   0.660554    0.590909        1.000000   \n",
       "1     77  405    183               1   0.086802    0.681818        1.000000   \n",
       "2  118.5  290    150               1   0.797898    0.363636        0.857143   \n",
       "3     72  260    168               1   0.807134    0.409091        0.785714   \n",
       "4    102  355    154               1   0.806737    0.409091        0.785714   \n",
       "\n",
       "   Potential_scaled  Special_scaled  International Reputation_scaled  \\\n",
       "0          0.933333        0.888025                             1.00   \n",
       "1          0.933333        0.908243                             1.00   \n",
       "2          0.866667        0.842146                             1.00   \n",
       "3          0.866667        0.319596                             0.75   \n",
       "4          0.800000        0.949456                             0.75   \n",
       "\n",
       "   Weak Foot_scaled  Skill Moves_scaled  Jersey Number_scaled  \n",
       "0              0.75                0.75              0.098901  \n",
       "1              0.75                1.00              0.065934  \n",
       "2              1.00                1.00              0.098901  \n",
       "3              0.50                0.00              0.000000  \n",
       "4              1.00                0.75              0.065934  "
      ]
     },
     "execution_count": 304,
     "metadata": {},
     "output_type": "execute_result"
    }
   ],
   "source": [
    "data.head()"
   ]
  },
  {
   "cell_type": "markdown",
   "id": "eca53464",
   "metadata": {},
   "source": [
    "## Построение моделей"
   ]
  },
  {
   "cell_type": "code",
   "execution_count": 305,
   "id": "5cdf31b7",
   "metadata": {},
   "outputs": [
    {
     "name": "stdout",
     "output_type": "stream",
     "text": [
      "Входные данные:\n",
      "\n",
      "    Value Wage Weight  Preferred_Foot  Age_scaled  Overall_scaled  \\\n",
      "0  110.5  565    159               0    0.590909        1.000000   \n",
      "1     77  405    183               1    0.681818        1.000000   \n",
      "2  118.5  290    150               1    0.363636        0.857143   \n",
      "3     72  260    168               1    0.409091        0.785714   \n",
      "4    102  355    154               1    0.409091        0.785714   \n",
      "\n",
      "   Potential_scaled  Special_scaled  International Reputation_scaled  \\\n",
      "0          0.933333        0.888025                             1.00   \n",
      "1          0.933333        0.908243                             1.00   \n",
      "2          0.866667        0.842146                             1.00   \n",
      "3          0.866667        0.319596                             0.75   \n",
      "4          0.800000        0.949456                             0.75   \n",
      "\n",
      "   Weak Foot_scaled  Skill Moves_scaled  Jersey Number_scaled  \n",
      "0              0.75                0.75              0.098901  \n",
      "1              0.75                1.00              0.065934  \n",
      "2              1.00                1.00              0.098901  \n",
      "3              0.50                0.00              0.000000  \n",
      "4              1.00                0.75              0.065934   \n",
      "\n",
      "Выходные данные:\n",
      "\n",
      " 0    0.660554\n",
      "1    0.086802\n",
      "2    0.797898\n",
      "3    0.807134\n",
      "4    0.806737\n",
      "Name: ID_scaled, dtype: float64\n"
     ]
    }
   ],
   "source": [
    "X = data.drop(['ID_scaled'], axis = 1)\n",
    "Y = data.ID_scaled\n",
    "print('Входные данные:\\n\\n', X.head(), '\\n\\nВыходные данные:\\n\\n', Y.head())"
   ]
  },
  {
   "cell_type": "code",
   "execution_count": 306,
   "id": "dc50a84b",
   "metadata": {},
   "outputs": [
    {
     "name": "stdout",
     "output_type": "stream",
     "text": [
      "Входные параметры обучающей выборки:\n",
      "\n",
      "     Value Wage Weight  Preferred_Foot  Age_scaled  Overall_scaled  \\\n",
      "141    24   42    192               1    0.500000        0.285714   \n",
      "383    16   59    183               1    0.454545        0.071429   \n",
      "135  24.5  165    154               1    0.454545        0.285714   \n",
      "493  11.5   63    196               1    0.500000        0.000000   \n",
      "122    39   72    154               0    0.318182        0.285714   \n",
      "\n",
      "     Potential_scaled  Special_scaled  International Reputation_scaled  \\\n",
      "141          0.333333        0.212286                             0.25   \n",
      "383          0.133333        0.595645                             0.50   \n",
      "135          0.266667        0.867030                             0.50   \n",
      "493          0.000000        0.632193                             0.25   \n",
      "122          0.466667        0.801711                             0.25   \n",
      "\n",
      "     Weak Foot_scaled  Skill Moves_scaled  Jersey Number_scaled  \n",
      "141              0.50                0.00              0.000000  \n",
      "383              0.75                0.25              0.384615  \n",
      "135              0.25                0.25              0.010989  \n",
      "493              0.50                0.25              0.021978  \n",
      "122              0.50                0.75              0.208791   \n",
      "\n",
      "Входные параметры тестовой выборки:\n",
      "\n",
      "     Value Wage Weight  Preferred_Foot  Age_scaled  Overall_scaled  \\\n",
      "90     37   66    163               1    0.500000        0.357143   \n",
      "254  26.5  140    137               1    0.318182        0.142857   \n",
      "283    21  140    143               1    0.545455        0.142857   \n",
      "445    15   20    143               0    0.318182        0.000000   \n",
      "461  14.5   24    157               1    0.545455        0.000000   \n",
      "\n",
      "     Potential_scaled  Special_scaled  International Reputation_scaled  \\\n",
      "90           0.333333        0.823484                             0.25   \n",
      "254          0.200000        0.804821                             0.25   \n",
      "283          0.133333        0.706065                             0.50   \n",
      "445          0.133333        0.750389                             0.25   \n",
      "461          0.000000        0.735614                             0.00   \n",
      "\n",
      "     Weak Foot_scaled  Skill Moves_scaled  Jersey Number_scaled  \n",
      "90               0.75                0.50              0.098901  \n",
      "254              0.50                0.75              0.065934  \n",
      "283              1.00                0.75              0.109890  \n",
      "445              0.25                0.50              0.021978  \n",
      "461              0.75                0.75              0.065934   \n",
      "\n",
      "Выходные параметры обучающей выборки:\n",
      "\n",
      " 141    0.747217\n",
      "383    0.774349\n",
      "135    0.787470\n",
      "493    0.801310\n",
      "122    0.856848\n",
      "Name: ID_scaled, dtype: float64 \n",
      "\n",
      "Выходные параметры тестовой выборки:\n",
      "\n",
      " 90     0.792220\n",
      "254    0.867402\n",
      "283    0.792186\n",
      "445    0.883131\n",
      "461    0.854461\n",
      "Name: ID_scaled, dtype: float64\n"
     ]
    }
   ],
   "source": [
    "X_train,  X_test,  Y_train,  Y_test = train_test_split(X,  Y, random_state = 0, test_size = 0.30)\n",
    "print('Входные параметры обучающей выборки:\\n\\n',X_train.head(), \\\n",
    "      '\\n\\nВходные параметры тестовой выборки:\\n\\n', X_test.head(), \\\n",
    "      '\\n\\nВыходные параметры обучающей выборки:\\n\\n', Y_train.head(), \\\n",
    "      '\\n\\nВыходные параметры тестовой выборки:\\n\\n', Y_test.head())"
   ]
  },
  {
   "cell_type": "markdown",
   "id": "c7c4ad68",
   "metadata": {},
   "source": [
    "## \"Дерево решений\""
   ]
  },
  {
   "cell_type": "code",
   "execution_count": 307,
   "id": "24582c16",
   "metadata": {},
   "outputs": [],
   "source": [
    "from sklearn.tree import DecisionTreeRegressor"
   ]
  },
  {
   "cell_type": "code",
   "execution_count": 308,
   "id": "17d6248d",
   "metadata": {},
   "outputs": [],
   "source": [
    "dtc = DecisionTreeRegressor(random_state=1).fit(X_train, Y_train)\n",
    "data_test_predicted_dtc = dtc.predict(X_test)"
   ]
  },
  {
   "cell_type": "markdown",
   "id": "3eed8c6b",
   "metadata": {},
   "source": [
    "## \"Случайный лес\""
   ]
  },
  {
   "cell_type": "code",
   "execution_count": 309,
   "id": "e9fc96e3",
   "metadata": {},
   "outputs": [],
   "source": [
    "from sklearn.ensemble import RandomForestRegressor\n",
    "\n",
    "from sklearn.metrics import mean_squared_error, r2_score"
   ]
  },
  {
   "cell_type": "code",
   "execution_count": 310,
   "id": "38b7e613",
   "metadata": {},
   "outputs": [],
   "source": [
    "rf = RandomForestRegressor(random_state=1).fit(X_train, Y_train)\n",
    "data_test_predicted_rf = rf.predict(X_test)"
   ]
  },
  {
   "cell_type": "markdown",
   "id": "14b4e7b6",
   "metadata": {},
   "source": [
    "## Оценка качества моделей"
   ]
  },
  {
   "cell_type": "code",
   "execution_count": 311,
   "id": "cab2808b",
   "metadata": {},
   "outputs": [
    {
     "name": "stdout",
     "output_type": "stream",
     "text": [
      "Метрика MSE:\n",
      "Дерево решений: 0.017932644991507766\n",
      "Случайный лес: 0.012360212855212596\n"
     ]
    }
   ],
   "source": [
    "print('Метрика MSE:\\nДерево решений: {}\\nСлучайный лес: {}'.format(mean_squared_error(Y_test, data_test_predicted_dtc), mean_squared_error(Y_test, data_test_predicted_rf)))"
   ]
  },
  {
   "cell_type": "code",
   "execution_count": 312,
   "id": "a6af2c5a",
   "metadata": {},
   "outputs": [
    {
     "name": "stdout",
     "output_type": "stream",
     "text": [
      "Метрика R²:\n",
      "Дерево решений: 0.46296851245460957\n",
      "Случайный лес: 0.6298469356218279\n"
     ]
    }
   ],
   "source": [
    "print('Метрика R\\u00B2:\\nДерево решений: {}\\nСлучайный лес: {}'.format(r2_score(Y_test, data_test_predicted_dtc), r2_score(Y_test, data_test_predicted_rf)))"
   ]
  },
  {
   "cell_type": "markdown",
   "id": "90bda638",
   "metadata": {},
   "source": [
    "## Вывод\n",
    "Исходя из оценки качества построенных моделей можно увидеть, что модели \"Случайный лес\" и \"Дерево решений\" одинаково справились с поставленной задачей"
   ]
  }
 ],
 "metadata": {
  "kernelspec": {
   "display_name": "Python 3",
   "language": "python",
   "name": "python3"
  },
  "language_info": {
   "codemirror_mode": {
    "name": "ipython",
    "version": 3
   },
   "file_extension": ".py",
   "mimetype": "text/x-python",
   "name": "python",
   "nbconvert_exporter": "python",
   "pygments_lexer": "ipython3",
   "version": "3.8.8"
  }
 },
 "nbformat": 4,
 "nbformat_minor": 5
}
