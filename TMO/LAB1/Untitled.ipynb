{
 "cells": [
  {
   "cell_type": "markdown",
   "metadata": {},
   "source": [
    "# Лабораторная работа №1"
   ]
  },
  {
   "cell_type": "markdown",
   "metadata": {},
   "source": [
    "### Импорт библиотек"
   ]
  },
  {
   "cell_type": "code",
   "execution_count": 1,
   "metadata": {},
   "outputs": [],
   "source": [
    "import numpy as np\n",
    "import pandas as pd\n",
    "import seaborn as sns\n",
    "import matplotlib.pyplot as plt\n",
    "from pandas.plotting import scatter_matrix\n",
    "import warnings\n",
    "warnings.filterwarnings('ignore')\n",
    "sns.set(style=\"ticks\")\n",
    "%matplotlib inline"
   ]
  },
  {
   "cell_type": "markdown",
   "metadata": {},
   "source": [
    "### Загрузка данных"
   ]
  },
  {
   "cell_type": "code",
   "execution_count": 2,
   "metadata": {},
   "outputs": [],
   "source": [
    "data = pd.read_csv('Intel_CPUs.csv', sep = ',' )"
   ]
  },
  {
   "cell_type": "markdown",
   "metadata": {},
   "source": [
    "## 2)Основные характеристики датасета"
   ]
  },
  {
   "cell_type": "code",
   "execution_count": 3,
   "metadata": {},
   "outputs": [
    {
     "data": {
      "text/html": [
       "<div>\n",
       "<style scoped>\n",
       "    .dataframe tbody tr th:only-of-type {\n",
       "        vertical-align: middle;\n",
       "    }\n",
       "\n",
       "    .dataframe tbody tr th {\n",
       "        vertical-align: top;\n",
       "    }\n",
       "\n",
       "    .dataframe thead th {\n",
       "        text-align: right;\n",
       "    }\n",
       "</style>\n",
       "<table border=\"1\" class=\"dataframe\">\n",
       "  <thead>\n",
       "    <tr style=\"text-align: right;\">\n",
       "      <th></th>\n",
       "      <th>Product_Collection</th>\n",
       "      <th>Vertical_Segment</th>\n",
       "      <th>Processor_Number</th>\n",
       "      <th>Status</th>\n",
       "      <th>Launch_Date</th>\n",
       "      <th>Lithography</th>\n",
       "      <th>Recommended_Customer_Price</th>\n",
       "      <th>nb_of_Cores</th>\n",
       "      <th>nb_of_Threads</th>\n",
       "      <th>Processor_Base_Frequency</th>\n",
       "      <th>...</th>\n",
       "      <th>T</th>\n",
       "      <th>Intel_Hyper_Threading_Technology_</th>\n",
       "      <th>Intel_Virtualization_Technology_VTx_</th>\n",
       "      <th>Intel_64_</th>\n",
       "      <th>Instruction_Set</th>\n",
       "      <th>Instruction_Set_Extensions</th>\n",
       "      <th>Idle_States</th>\n",
       "      <th>Thermal_Monitoring_Technologies</th>\n",
       "      <th>Secure_Key</th>\n",
       "      <th>Execute_Disable_Bit</th>\n",
       "    </tr>\n",
       "  </thead>\n",
       "  <tbody>\n",
       "    <tr>\n",
       "      <th>0</th>\n",
       "      <td>7th Generation Intel® Core™ i7 Processors</td>\n",
       "      <td>Mobile</td>\n",
       "      <td>i7-7Y75</td>\n",
       "      <td>Launched</td>\n",
       "      <td>Q3'16</td>\n",
       "      <td>14 nm</td>\n",
       "      <td>$393.00</td>\n",
       "      <td>2</td>\n",
       "      <td>4.0</td>\n",
       "      <td>1.30 GHz</td>\n",
       "      <td>...</td>\n",
       "      <td>100°C</td>\n",
       "      <td>Yes</td>\n",
       "      <td>Yes</td>\n",
       "      <td>Yes</td>\n",
       "      <td>64-bit</td>\n",
       "      <td>SSE4.1/4.2, AVX 2.0</td>\n",
       "      <td>Yes</td>\n",
       "      <td>Yes</td>\n",
       "      <td>Yes</td>\n",
       "      <td>Yes</td>\n",
       "    </tr>\n",
       "    <tr>\n",
       "      <th>1</th>\n",
       "      <td>8th Generation Intel® Core™ i5 Processors</td>\n",
       "      <td>Mobile</td>\n",
       "      <td>i5-8250U</td>\n",
       "      <td>Launched</td>\n",
       "      <td>Q3'17</td>\n",
       "      <td>14 nm</td>\n",
       "      <td>$297.00</td>\n",
       "      <td>4</td>\n",
       "      <td>8.0</td>\n",
       "      <td>1.60 GHz</td>\n",
       "      <td>...</td>\n",
       "      <td>100°C</td>\n",
       "      <td>Yes</td>\n",
       "      <td>Yes</td>\n",
       "      <td>Yes</td>\n",
       "      <td>64-bit</td>\n",
       "      <td>SSE4.1/4.2, AVX 2.0</td>\n",
       "      <td>Yes</td>\n",
       "      <td>Yes</td>\n",
       "      <td>Yes</td>\n",
       "      <td>Yes</td>\n",
       "    </tr>\n",
       "    <tr>\n",
       "      <th>2</th>\n",
       "      <td>8th Generation Intel® Core™ i7 Processors</td>\n",
       "      <td>Mobile</td>\n",
       "      <td>i7-8550U</td>\n",
       "      <td>Launched</td>\n",
       "      <td>Q3'17</td>\n",
       "      <td>14 nm</td>\n",
       "      <td>$409.00</td>\n",
       "      <td>4</td>\n",
       "      <td>8.0</td>\n",
       "      <td>1.80 GHz</td>\n",
       "      <td>...</td>\n",
       "      <td>100°C</td>\n",
       "      <td>Yes</td>\n",
       "      <td>Yes</td>\n",
       "      <td>Yes</td>\n",
       "      <td>64-bit</td>\n",
       "      <td>SSE4.1/4.2, AVX 2.0</td>\n",
       "      <td>Yes</td>\n",
       "      <td>Yes</td>\n",
       "      <td>Yes</td>\n",
       "      <td>Yes</td>\n",
       "    </tr>\n",
       "    <tr>\n",
       "      <th>3</th>\n",
       "      <td>Intel® Core™ X-series Processors</td>\n",
       "      <td>Desktop</td>\n",
       "      <td>i7-3820</td>\n",
       "      <td>End of Life</td>\n",
       "      <td>Q1'12</td>\n",
       "      <td>32 nm</td>\n",
       "      <td>$305.00</td>\n",
       "      <td>4</td>\n",
       "      <td>8.0</td>\n",
       "      <td>3.60 GHz</td>\n",
       "      <td>...</td>\n",
       "      <td>66.8°C</td>\n",
       "      <td>Yes</td>\n",
       "      <td>Yes</td>\n",
       "      <td>Yes</td>\n",
       "      <td>64-bit</td>\n",
       "      <td>SSE4.2, AVX, AES</td>\n",
       "      <td>Yes</td>\n",
       "      <td>Yes</td>\n",
       "      <td>NaN</td>\n",
       "      <td>Yes</td>\n",
       "    </tr>\n",
       "    <tr>\n",
       "      <th>4</th>\n",
       "      <td>7th Generation Intel® Core™ i5 Processors</td>\n",
       "      <td>Mobile</td>\n",
       "      <td>i5-7Y57</td>\n",
       "      <td>Launched</td>\n",
       "      <td>Q1'17</td>\n",
       "      <td>14 nm</td>\n",
       "      <td>$281.00</td>\n",
       "      <td>2</td>\n",
       "      <td>4.0</td>\n",
       "      <td>1.20 GHz</td>\n",
       "      <td>...</td>\n",
       "      <td>100°C</td>\n",
       "      <td>Yes</td>\n",
       "      <td>Yes</td>\n",
       "      <td>Yes</td>\n",
       "      <td>64-bit</td>\n",
       "      <td>SSE4.1/4.2, AVX 2.0</td>\n",
       "      <td>Yes</td>\n",
       "      <td>Yes</td>\n",
       "      <td>Yes</td>\n",
       "      <td>Yes</td>\n",
       "    </tr>\n",
       "  </tbody>\n",
       "</table>\n",
       "<p>5 rows × 45 columns</p>\n",
       "</div>"
      ],
      "text/plain": [
       "                          Product_Collection Vertical_Segment  \\\n",
       "0  7th Generation Intel® Core™ i7 Processors           Mobile   \n",
       "1  8th Generation Intel® Core™ i5 Processors           Mobile   \n",
       "2  8th Generation Intel® Core™ i7 Processors           Mobile   \n",
       "3           Intel® Core™ X-series Processors          Desktop   \n",
       "4  7th Generation Intel® Core™ i5 Processors           Mobile   \n",
       "\n",
       "  Processor_Number       Status Launch_Date Lithography  \\\n",
       "0          i7-7Y75     Launched       Q3'16       14 nm   \n",
       "1         i5-8250U     Launched       Q3'17       14 nm   \n",
       "2         i7-8550U     Launched       Q3'17       14 nm   \n",
       "3          i7-3820  End of Life       Q1'12       32 nm   \n",
       "4          i5-7Y57     Launched       Q1'17       14 nm   \n",
       "\n",
       "  Recommended_Customer_Price  nb_of_Cores  nb_of_Threads  \\\n",
       "0                   $393.00             2            4.0   \n",
       "1                   $297.00             4            8.0   \n",
       "2                   $409.00             4            8.0   \n",
       "3                   $305.00             4            8.0   \n",
       "4                   $281.00             2            4.0   \n",
       "\n",
       "  Processor_Base_Frequency  ...       T Intel_Hyper_Threading_Technology_  \\\n",
       "0                 1.30 GHz  ...   100°C                               Yes   \n",
       "1                 1.60 GHz  ...   100°C                               Yes   \n",
       "2                 1.80 GHz  ...   100°C                               Yes   \n",
       "3                 3.60 GHz  ...  66.8°C                               Yes   \n",
       "4                 1.20 GHz  ...   100°C                               Yes   \n",
       "\n",
       "  Intel_Virtualization_Technology_VTx_ Intel_64_ Instruction_Set  \\\n",
       "0                                  Yes       Yes          64-bit   \n",
       "1                                  Yes       Yes          64-bit   \n",
       "2                                  Yes       Yes          64-bit   \n",
       "3                                  Yes       Yes          64-bit   \n",
       "4                                  Yes       Yes          64-bit   \n",
       "\n",
       "  Instruction_Set_Extensions Idle_States Thermal_Monitoring_Technologies  \\\n",
       "0        SSE4.1/4.2, AVX 2.0         Yes                             Yes   \n",
       "1        SSE4.1/4.2, AVX 2.0         Yes                             Yes   \n",
       "2        SSE4.1/4.2, AVX 2.0         Yes                             Yes   \n",
       "3           SSE4.2, AVX, AES         Yes                             Yes   \n",
       "4        SSE4.1/4.2, AVX 2.0         Yes                             Yes   \n",
       "\n",
       "   Secure_Key Execute_Disable_Bit  \n",
       "0         Yes                 Yes  \n",
       "1         Yes                 Yes  \n",
       "2         Yes                 Yes  \n",
       "3         NaN                 Yes  \n",
       "4         Yes                 Yes  \n",
       "\n",
       "[5 rows x 45 columns]"
      ]
     },
     "execution_count": 3,
     "metadata": {},
     "output_type": "execute_result"
    }
   ],
   "source": [
    "# Первые пять строк датасета\n",
    "data.head()"
   ]
  },
  {
   "cell_type": "code",
   "execution_count": 6,
   "metadata": {},
   "outputs": [
    {
     "data": {
      "text/plain": [
       "(2283, 45)"
      ]
     },
     "execution_count": 6,
     "metadata": {},
     "output_type": "execute_result"
    }
   ],
   "source": [
    "# Размер датасета\n",
    "data.shape"
   ]
  },
  {
   "cell_type": "code",
   "execution_count": 7,
   "metadata": {},
   "outputs": [
    {
     "data": {
      "text/plain": [
       "Product_Collection                             0\n",
       "Vertical_Segment                               0\n",
       "Processor_Number                             349\n",
       "Status                                         0\n",
       "Launch_Date                                  412\n",
       "Lithography                                   71\n",
       "Recommended_Customer_Price                   982\n",
       "nb_of_Cores                                    0\n",
       "nb_of_Threads                                856\n",
       "Processor_Base_Frequency                      18\n",
       "Max_Turbo_Frequency                         1369\n",
       "Cache                                         12\n",
       "Bus_Speed                                    294\n",
       "TDP                                           67\n",
       "Embedded_Options_Available                     1\n",
       "Conflict_Free                               1076\n",
       "Max_Memory_Size                              880\n",
       "Memory_Types                                 883\n",
       "Max_nb_of_Memory_Channels                    869\n",
       "Max_Memory_Bandwidth                        1136\n",
       "ECC_Memory_Supported                         787\n",
       "Processor_Graphics_                         2283\n",
       "Graphics_Base_Frequency                     1444\n",
       "Graphics_Max_Dynamic_Frequency              1554\n",
       "Graphics_Video_Max_Memory                   1873\n",
       "Graphics_Output                             1728\n",
       "Support_4k                                  2283\n",
       "Max_Resolution_HDMI                         1917\n",
       "Max_Resolution_DP                           1922\n",
       "Max_Resolution_eDP_Integrated_Flat_Panel    2026\n",
       "DirectX_Support                             1888\n",
       "OpenGL_Support                              2283\n",
       "PCI_Express_Revision                        1015\n",
       "PCI_Express_Configurations_                 1224\n",
       "Max_nb_of_PCI_Express_Lanes                 1104\n",
       "T                                            260\n",
       "Intel_Hyper_Threading_Technology_            260\n",
       "Intel_Virtualization_Technology_VTx_          87\n",
       "Intel_64_                                    307\n",
       "Instruction_Set                              141\n",
       "Instruction_Set_Extensions                  1048\n",
       "Idle_States                                  541\n",
       "Thermal_Monitoring_Technologies              891\n",
       "Secure_Key                                  1518\n",
       "Execute_Disable_Bit                          295\n",
       "dtype: int64"
      ]
     },
     "execution_count": 7,
     "metadata": {},
     "output_type": "execute_result"
    }
   ],
   "source": [
    "# Количество нулевых элементов\n",
    "data.isnull().sum()"
   ]
  },
  {
   "cell_type": "code",
   "execution_count": 8,
   "metadata": {},
   "outputs": [
    {
     "data": {
      "text/plain": [
       "Product_Collection                           object\n",
       "Vertical_Segment                             object\n",
       "Processor_Number                             object\n",
       "Status                                       object\n",
       "Launch_Date                                  object\n",
       "Lithography                                  object\n",
       "Recommended_Customer_Price                   object\n",
       "nb_of_Cores                                   int64\n",
       "nb_of_Threads                               float64\n",
       "Processor_Base_Frequency                     object\n",
       "Max_Turbo_Frequency                          object\n",
       "Cache                                        object\n",
       "Bus_Speed                                    object\n",
       "TDP                                          object\n",
       "Embedded_Options_Available                   object\n",
       "Conflict_Free                                object\n",
       "Max_Memory_Size                              object\n",
       "Memory_Types                                 object\n",
       "Max_nb_of_Memory_Channels                   float64\n",
       "Max_Memory_Bandwidth                         object\n",
       "ECC_Memory_Supported                         object\n",
       "Processor_Graphics_                         float64\n",
       "Graphics_Base_Frequency                      object\n",
       "Graphics_Max_Dynamic_Frequency               object\n",
       "Graphics_Video_Max_Memory                    object\n",
       "Graphics_Output                              object\n",
       "Support_4k                                  float64\n",
       "Max_Resolution_HDMI                          object\n",
       "Max_Resolution_DP                            object\n",
       "Max_Resolution_eDP_Integrated_Flat_Panel     object\n",
       "DirectX_Support                              object\n",
       "OpenGL_Support                              float64\n",
       "PCI_Express_Revision                         object\n",
       "PCI_Express_Configurations_                  object\n",
       "Max_nb_of_PCI_Express_Lanes                 float64\n",
       "T                                            object\n",
       "Intel_Hyper_Threading_Technology_            object\n",
       "Intel_Virtualization_Technology_VTx_         object\n",
       "Intel_64_                                    object\n",
       "Instruction_Set                              object\n",
       "Instruction_Set_Extensions                   object\n",
       "Idle_States                                  object\n",
       "Thermal_Monitoring_Technologies              object\n",
       "Secure_Key                                   object\n",
       "Execute_Disable_Bit                          object\n",
       "dtype: object"
      ]
     },
     "execution_count": 8,
     "metadata": {},
     "output_type": "execute_result"
    }
   ],
   "source": [
    " # Колонки и их типы данных\n",
    "data.dtypes"
   ]
  },
  {
   "cell_type": "code",
   "execution_count": 9,
   "metadata": {
    "scrolled": true
   },
   "outputs": [
    {
     "name": "stdout",
     "output_type": "stream",
     "text": [
      "<class 'pandas.core.frame.DataFrame'>\n",
      "RangeIndex: 2283 entries, 0 to 2282\n",
      "Data columns (total 45 columns):\n",
      " #   Column                                    Non-Null Count  Dtype  \n",
      "---  ------                                    --------------  -----  \n",
      " 0   Product_Collection                        2283 non-null   object \n",
      " 1   Vertical_Segment                          2283 non-null   object \n",
      " 2   Processor_Number                          1934 non-null   object \n",
      " 3   Status                                    2283 non-null   object \n",
      " 4   Launch_Date                               1871 non-null   object \n",
      " 5   Lithography                               2212 non-null   object \n",
      " 6   Recommended_Customer_Price                1301 non-null   object \n",
      " 7   nb_of_Cores                               2283 non-null   int64  \n",
      " 8   nb_of_Threads                             1427 non-null   float64\n",
      " 9   Processor_Base_Frequency                  2265 non-null   object \n",
      " 10  Max_Turbo_Frequency                       914 non-null    object \n",
      " 11  Cache                                     2271 non-null   object \n",
      " 12  Bus_Speed                                 1989 non-null   object \n",
      " 13  TDP                                       2216 non-null   object \n",
      " 14  Embedded_Options_Available                2282 non-null   object \n",
      " 15  Conflict_Free                             1207 non-null   object \n",
      " 16  Max_Memory_Size                           1403 non-null   object \n",
      " 17  Memory_Types                              1400 non-null   object \n",
      " 18  Max_nb_of_Memory_Channels                 1414 non-null   float64\n",
      " 19  Max_Memory_Bandwidth                      1147 non-null   object \n",
      " 20  ECC_Memory_Supported                      1496 non-null   object \n",
      " 21  Processor_Graphics_                       0 non-null      float64\n",
      " 22  Graphics_Base_Frequency                   839 non-null    object \n",
      " 23  Graphics_Max_Dynamic_Frequency            729 non-null    object \n",
      " 24  Graphics_Video_Max_Memory                 410 non-null    object \n",
      " 25  Graphics_Output                           555 non-null    object \n",
      " 26  Support_4k                                0 non-null      float64\n",
      " 27  Max_Resolution_HDMI                       366 non-null    object \n",
      " 28  Max_Resolution_DP                         361 non-null    object \n",
      " 29  Max_Resolution_eDP_Integrated_Flat_Panel  257 non-null    object \n",
      " 30  DirectX_Support                           395 non-null    object \n",
      " 31  OpenGL_Support                            0 non-null      float64\n",
      " 32  PCI_Express_Revision                      1268 non-null   object \n",
      " 33  PCI_Express_Configurations_               1059 non-null   object \n",
      " 34  Max_nb_of_PCI_Express_Lanes               1179 non-null   float64\n",
      " 35  T                                         2023 non-null   object \n",
      " 36  Intel_Hyper_Threading_Technology_         2023 non-null   object \n",
      " 37  Intel_Virtualization_Technology_VTx_      2196 non-null   object \n",
      " 38  Intel_64_                                 1976 non-null   object \n",
      " 39  Instruction_Set                           2142 non-null   object \n",
      " 40  Instruction_Set_Extensions                1235 non-null   object \n",
      " 41  Idle_States                               1742 non-null   object \n",
      " 42  Thermal_Monitoring_Technologies           1392 non-null   object \n",
      " 43  Secure_Key                                765 non-null    object \n",
      " 44  Execute_Disable_Bit                       1988 non-null   object \n",
      "dtypes: float64(6), int64(1), object(38)\n",
      "memory usage: 802.7+ KB\n"
     ]
    }
   ],
   "source": [
    "# Описание датасета\n",
    "data.info()"
   ]
  },
  {
   "cell_type": "code",
   "execution_count": 10,
   "metadata": {},
   "outputs": [
    {
     "data": {
      "text/html": [
       "<div>\n",
       "<style scoped>\n",
       "    .dataframe tbody tr th:only-of-type {\n",
       "        vertical-align: middle;\n",
       "    }\n",
       "\n",
       "    .dataframe tbody tr th {\n",
       "        vertical-align: top;\n",
       "    }\n",
       "\n",
       "    .dataframe thead th {\n",
       "        text-align: right;\n",
       "    }\n",
       "</style>\n",
       "<table border=\"1\" class=\"dataframe\">\n",
       "  <thead>\n",
       "    <tr style=\"text-align: right;\">\n",
       "      <th></th>\n",
       "      <th>nb_of_Cores</th>\n",
       "      <th>nb_of_Threads</th>\n",
       "      <th>Max_nb_of_Memory_Channels</th>\n",
       "      <th>Processor_Graphics_</th>\n",
       "      <th>Support_4k</th>\n",
       "      <th>OpenGL_Support</th>\n",
       "      <th>Max_nb_of_PCI_Express_Lanes</th>\n",
       "    </tr>\n",
       "  </thead>\n",
       "  <tbody>\n",
       "    <tr>\n",
       "      <th>count</th>\n",
       "      <td>2283.000000</td>\n",
       "      <td>1427.000000</td>\n",
       "      <td>1414.000000</td>\n",
       "      <td>0.0</td>\n",
       "      <td>0.0</td>\n",
       "      <td>0.0</td>\n",
       "      <td>1179.000000</td>\n",
       "    </tr>\n",
       "    <tr>\n",
       "      <th>mean</th>\n",
       "      <td>4.066579</td>\n",
       "      <td>8.728101</td>\n",
       "      <td>2.615276</td>\n",
       "      <td>NaN</td>\n",
       "      <td>NaN</td>\n",
       "      <td>NaN</td>\n",
       "      <td>20.399491</td>\n",
       "    </tr>\n",
       "    <tr>\n",
       "      <th>std</th>\n",
       "      <td>6.329884</td>\n",
       "      <td>9.132518</td>\n",
       "      <td>1.470327</td>\n",
       "      <td>NaN</td>\n",
       "      <td>NaN</td>\n",
       "      <td>NaN</td>\n",
       "      <td>12.868963</td>\n",
       "    </tr>\n",
       "    <tr>\n",
       "      <th>min</th>\n",
       "      <td>1.000000</td>\n",
       "      <td>1.000000</td>\n",
       "      <td>1.000000</td>\n",
       "      <td>NaN</td>\n",
       "      <td>NaN</td>\n",
       "      <td>NaN</td>\n",
       "      <td>0.000000</td>\n",
       "    </tr>\n",
       "    <tr>\n",
       "      <th>25%</th>\n",
       "      <td>1.000000</td>\n",
       "      <td>4.000000</td>\n",
       "      <td>2.000000</td>\n",
       "      <td>NaN</td>\n",
       "      <td>NaN</td>\n",
       "      <td>NaN</td>\n",
       "      <td>16.000000</td>\n",
       "    </tr>\n",
       "    <tr>\n",
       "      <th>50%</th>\n",
       "      <td>2.000000</td>\n",
       "      <td>4.000000</td>\n",
       "      <td>2.000000</td>\n",
       "      <td>NaN</td>\n",
       "      <td>NaN</td>\n",
       "      <td>NaN</td>\n",
       "      <td>16.000000</td>\n",
       "    </tr>\n",
       "    <tr>\n",
       "      <th>75%</th>\n",
       "      <td>4.000000</td>\n",
       "      <td>8.000000</td>\n",
       "      <td>3.000000</td>\n",
       "      <td>NaN</td>\n",
       "      <td>NaN</td>\n",
       "      <td>NaN</td>\n",
       "      <td>32.000000</td>\n",
       "    </tr>\n",
       "    <tr>\n",
       "      <th>max</th>\n",
       "      <td>72.000000</td>\n",
       "      <td>56.000000</td>\n",
       "      <td>16.000000</td>\n",
       "      <td>NaN</td>\n",
       "      <td>NaN</td>\n",
       "      <td>NaN</td>\n",
       "      <td>48.000000</td>\n",
       "    </tr>\n",
       "  </tbody>\n",
       "</table>\n",
       "</div>"
      ],
      "text/plain": [
       "       nb_of_Cores  nb_of_Threads  Max_nb_of_Memory_Channels  \\\n",
       "count  2283.000000    1427.000000                1414.000000   \n",
       "mean      4.066579       8.728101                   2.615276   \n",
       "std       6.329884       9.132518                   1.470327   \n",
       "min       1.000000       1.000000                   1.000000   \n",
       "25%       1.000000       4.000000                   2.000000   \n",
       "50%       2.000000       4.000000                   2.000000   \n",
       "75%       4.000000       8.000000                   3.000000   \n",
       "max      72.000000      56.000000                  16.000000   \n",
       "\n",
       "       Processor_Graphics_  Support_4k  OpenGL_Support  \\\n",
       "count                  0.0         0.0             0.0   \n",
       "mean                   NaN         NaN             NaN   \n",
       "std                    NaN         NaN             NaN   \n",
       "min                    NaN         NaN             NaN   \n",
       "25%                    NaN         NaN             NaN   \n",
       "50%                    NaN         NaN             NaN   \n",
       "75%                    NaN         NaN             NaN   \n",
       "max                    NaN         NaN             NaN   \n",
       "\n",
       "       Max_nb_of_PCI_Express_Lanes  \n",
       "count                  1179.000000  \n",
       "mean                     20.399491  \n",
       "std                      12.868963  \n",
       "min                       0.000000  \n",
       "25%                      16.000000  \n",
       "50%                      16.000000  \n",
       "75%                      32.000000  \n",
       "max                      48.000000  "
      ]
     },
     "execution_count": 10,
     "metadata": {},
     "output_type": "execute_result"
    }
   ],
   "source": [
    "# Статистические данные\n",
    "data.describe()"
   ]
  },
  {
   "cell_type": "code",
   "execution_count": 11,
   "metadata": {},
   "outputs": [],
   "source": [
    "# Удаляем столбец Support_4k\n",
    "data = data.drop('Support_4k', axis = 1)"
   ]
  },
  {
   "cell_type": "code",
   "execution_count": 12,
   "metadata": {
    "scrolled": true
   },
   "outputs": [
    {
     "data": {
      "text/html": [
       "<div>\n",
       "<style scoped>\n",
       "    .dataframe tbody tr th:only-of-type {\n",
       "        vertical-align: middle;\n",
       "    }\n",
       "\n",
       "    .dataframe tbody tr th {\n",
       "        vertical-align: top;\n",
       "    }\n",
       "\n",
       "    .dataframe thead th {\n",
       "        text-align: right;\n",
       "    }\n",
       "</style>\n",
       "<table border=\"1\" class=\"dataframe\">\n",
       "  <thead>\n",
       "    <tr style=\"text-align: right;\">\n",
       "      <th></th>\n",
       "      <th>Product_Collection</th>\n",
       "      <th>Vertical_Segment</th>\n",
       "      <th>Processor_Number</th>\n",
       "      <th>Status</th>\n",
       "      <th>Launch_Date</th>\n",
       "      <th>Lithography</th>\n",
       "      <th>Recommended_Customer_Price</th>\n",
       "      <th>nb_of_Cores</th>\n",
       "      <th>nb_of_Threads</th>\n",
       "      <th>Processor_Base_Frequency</th>\n",
       "      <th>...</th>\n",
       "      <th>T</th>\n",
       "      <th>Intel_Hyper_Threading_Technology_</th>\n",
       "      <th>Intel_Virtualization_Technology_VTx_</th>\n",
       "      <th>Intel_64_</th>\n",
       "      <th>Instruction_Set</th>\n",
       "      <th>Instruction_Set_Extensions</th>\n",
       "      <th>Idle_States</th>\n",
       "      <th>Thermal_Monitoring_Technologies</th>\n",
       "      <th>Secure_Key</th>\n",
       "      <th>Execute_Disable_Bit</th>\n",
       "    </tr>\n",
       "  </thead>\n",
       "  <tbody>\n",
       "    <tr>\n",
       "      <th>0</th>\n",
       "      <td>7th Generation Intel® Core™ i7 Processors</td>\n",
       "      <td>Mobile</td>\n",
       "      <td>i7-7Y75</td>\n",
       "      <td>Launched</td>\n",
       "      <td>Q3'16</td>\n",
       "      <td>14 nm</td>\n",
       "      <td>$393.00</td>\n",
       "      <td>2</td>\n",
       "      <td>4.0</td>\n",
       "      <td>1.30 GHz</td>\n",
       "      <td>...</td>\n",
       "      <td>100°C</td>\n",
       "      <td>Yes</td>\n",
       "      <td>Yes</td>\n",
       "      <td>Yes</td>\n",
       "      <td>64-bit</td>\n",
       "      <td>SSE4.1/4.2, AVX 2.0</td>\n",
       "      <td>Yes</td>\n",
       "      <td>Yes</td>\n",
       "      <td>Yes</td>\n",
       "      <td>Yes</td>\n",
       "    </tr>\n",
       "    <tr>\n",
       "      <th>1</th>\n",
       "      <td>8th Generation Intel® Core™ i5 Processors</td>\n",
       "      <td>Mobile</td>\n",
       "      <td>i5-8250U</td>\n",
       "      <td>Launched</td>\n",
       "      <td>Q3'17</td>\n",
       "      <td>14 nm</td>\n",
       "      <td>$297.00</td>\n",
       "      <td>4</td>\n",
       "      <td>8.0</td>\n",
       "      <td>1.60 GHz</td>\n",
       "      <td>...</td>\n",
       "      <td>100°C</td>\n",
       "      <td>Yes</td>\n",
       "      <td>Yes</td>\n",
       "      <td>Yes</td>\n",
       "      <td>64-bit</td>\n",
       "      <td>SSE4.1/4.2, AVX 2.0</td>\n",
       "      <td>Yes</td>\n",
       "      <td>Yes</td>\n",
       "      <td>Yes</td>\n",
       "      <td>Yes</td>\n",
       "    </tr>\n",
       "    <tr>\n",
       "      <th>2</th>\n",
       "      <td>8th Generation Intel® Core™ i7 Processors</td>\n",
       "      <td>Mobile</td>\n",
       "      <td>i7-8550U</td>\n",
       "      <td>Launched</td>\n",
       "      <td>Q3'17</td>\n",
       "      <td>14 nm</td>\n",
       "      <td>$409.00</td>\n",
       "      <td>4</td>\n",
       "      <td>8.0</td>\n",
       "      <td>1.80 GHz</td>\n",
       "      <td>...</td>\n",
       "      <td>100°C</td>\n",
       "      <td>Yes</td>\n",
       "      <td>Yes</td>\n",
       "      <td>Yes</td>\n",
       "      <td>64-bit</td>\n",
       "      <td>SSE4.1/4.2, AVX 2.0</td>\n",
       "      <td>Yes</td>\n",
       "      <td>Yes</td>\n",
       "      <td>Yes</td>\n",
       "      <td>Yes</td>\n",
       "    </tr>\n",
       "    <tr>\n",
       "      <th>3</th>\n",
       "      <td>Intel® Core™ X-series Processors</td>\n",
       "      <td>Desktop</td>\n",
       "      <td>i7-3820</td>\n",
       "      <td>End of Life</td>\n",
       "      <td>Q1'12</td>\n",
       "      <td>32 nm</td>\n",
       "      <td>$305.00</td>\n",
       "      <td>4</td>\n",
       "      <td>8.0</td>\n",
       "      <td>3.60 GHz</td>\n",
       "      <td>...</td>\n",
       "      <td>66.8°C</td>\n",
       "      <td>Yes</td>\n",
       "      <td>Yes</td>\n",
       "      <td>Yes</td>\n",
       "      <td>64-bit</td>\n",
       "      <td>SSE4.2, AVX, AES</td>\n",
       "      <td>Yes</td>\n",
       "      <td>Yes</td>\n",
       "      <td>NaN</td>\n",
       "      <td>Yes</td>\n",
       "    </tr>\n",
       "    <tr>\n",
       "      <th>4</th>\n",
       "      <td>7th Generation Intel® Core™ i5 Processors</td>\n",
       "      <td>Mobile</td>\n",
       "      <td>i5-7Y57</td>\n",
       "      <td>Launched</td>\n",
       "      <td>Q1'17</td>\n",
       "      <td>14 nm</td>\n",
       "      <td>$281.00</td>\n",
       "      <td>2</td>\n",
       "      <td>4.0</td>\n",
       "      <td>1.20 GHz</td>\n",
       "      <td>...</td>\n",
       "      <td>100°C</td>\n",
       "      <td>Yes</td>\n",
       "      <td>Yes</td>\n",
       "      <td>Yes</td>\n",
       "      <td>64-bit</td>\n",
       "      <td>SSE4.1/4.2, AVX 2.0</td>\n",
       "      <td>Yes</td>\n",
       "      <td>Yes</td>\n",
       "      <td>Yes</td>\n",
       "      <td>Yes</td>\n",
       "    </tr>\n",
       "  </tbody>\n",
       "</table>\n",
       "<p>5 rows × 44 columns</p>\n",
       "</div>"
      ],
      "text/plain": [
       "                          Product_Collection Vertical_Segment  \\\n",
       "0  7th Generation Intel® Core™ i7 Processors           Mobile   \n",
       "1  8th Generation Intel® Core™ i5 Processors           Mobile   \n",
       "2  8th Generation Intel® Core™ i7 Processors           Mobile   \n",
       "3           Intel® Core™ X-series Processors          Desktop   \n",
       "4  7th Generation Intel® Core™ i5 Processors           Mobile   \n",
       "\n",
       "  Processor_Number       Status Launch_Date Lithography  \\\n",
       "0          i7-7Y75     Launched       Q3'16       14 nm   \n",
       "1         i5-8250U     Launched       Q3'17       14 nm   \n",
       "2         i7-8550U     Launched       Q3'17       14 nm   \n",
       "3          i7-3820  End of Life       Q1'12       32 nm   \n",
       "4          i5-7Y57     Launched       Q1'17       14 nm   \n",
       "\n",
       "  Recommended_Customer_Price  nb_of_Cores  nb_of_Threads  \\\n",
       "0                   $393.00             2            4.0   \n",
       "1                   $297.00             4            8.0   \n",
       "2                   $409.00             4            8.0   \n",
       "3                   $305.00             4            8.0   \n",
       "4                   $281.00             2            4.0   \n",
       "\n",
       "  Processor_Base_Frequency  ...       T Intel_Hyper_Threading_Technology_  \\\n",
       "0                 1.30 GHz  ...   100°C                               Yes   \n",
       "1                 1.60 GHz  ...   100°C                               Yes   \n",
       "2                 1.80 GHz  ...   100°C                               Yes   \n",
       "3                 3.60 GHz  ...  66.8°C                               Yes   \n",
       "4                 1.20 GHz  ...   100°C                               Yes   \n",
       "\n",
       "  Intel_Virtualization_Technology_VTx_ Intel_64_ Instruction_Set  \\\n",
       "0                                  Yes       Yes          64-bit   \n",
       "1                                  Yes       Yes          64-bit   \n",
       "2                                  Yes       Yes          64-bit   \n",
       "3                                  Yes       Yes          64-bit   \n",
       "4                                  Yes       Yes          64-bit   \n",
       "\n",
       "  Instruction_Set_Extensions Idle_States Thermal_Monitoring_Technologies  \\\n",
       "0        SSE4.1/4.2, AVX 2.0         Yes                             Yes   \n",
       "1        SSE4.1/4.2, AVX 2.0         Yes                             Yes   \n",
       "2        SSE4.1/4.2, AVX 2.0         Yes                             Yes   \n",
       "3           SSE4.2, AVX, AES         Yes                             Yes   \n",
       "4        SSE4.1/4.2, AVX 2.0         Yes                             Yes   \n",
       "\n",
       "   Secure_Key Execute_Disable_Bit  \n",
       "0         Yes                 Yes  \n",
       "1         Yes                 Yes  \n",
       "2         Yes                 Yes  \n",
       "3         NaN                 Yes  \n",
       "4         Yes                 Yes  \n",
       "\n",
       "[5 rows x 44 columns]"
      ]
     },
     "execution_count": 12,
     "metadata": {},
     "output_type": "execute_result"
    }
   ],
   "source": [
    "# Первые пять строк датасета\n",
    "data.head()"
   ]
  },
  {
   "cell_type": "code",
   "execution_count": 13,
   "metadata": {},
   "outputs": [
    {
     "data": {
      "text/plain": [
       "array(['Mobile', 'Desktop', 'Embedded', 'Server'], dtype=object)"
      ]
     },
     "execution_count": 13,
     "metadata": {},
     "output_type": "execute_result"
    }
   ],
   "source": [
    "# Определим уникальные значения для целевого признака\n",
    "data['Vertical_Segment'].unique()"
   ]
  },
  {
   "cell_type": "markdown",
   "metadata": {},
   "source": [
    "## 3) Визуальное исследование датасета"
   ]
  },
  {
   "cell_type": "code",
   "execution_count": 14,
   "metadata": {},
   "outputs": [
    {
     "data": {
      "text/plain": [
       "array([[<AxesSubplot:title={'center':'nb_of_Cores'}>,\n",
       "        <AxesSubplot:title={'center':'nb_of_Threads'}>],\n",
       "       [<AxesSubplot:title={'center':'Max_nb_of_Memory_Channels'}>,\n",
       "        <AxesSubplot:title={'center':'Processor_Graphics_'}>],\n",
       "       [<AxesSubplot:title={'center':'OpenGL_Support'}>,\n",
       "        <AxesSubplot:title={'center':'Max_nb_of_PCI_Express_Lanes'}>]],\n",
       "      dtype=object)"
      ]
     },
     "execution_count": 14,
     "metadata": {},
     "output_type": "execute_result"
    },
    {
     "data": {
      "image/png": "[encoded data removed]",
      "text/plain": [
       "<Figure size 1080x504 with 6 Axes>"
      ]
     },
     "metadata": {
      "needs_background": "light"
     },
     "output_type": "display_data"
    }
   ],
   "source": [
    "# Гистограммы для всех признаков\n",
    "data.hist(bins=30, figsize = (15,7))"
   ]
  },
  {
   "cell_type": "code",
   "execution_count": 15,
   "metadata": {},
   "outputs": [
    {
     "data": {
      "text/plain": [
       "<seaborn.axisgrid.PairGrid at 0x2b5ea9c2460>"
      ]
     },
     "execution_count": 15,
     "metadata": {},
     "output_type": "execute_result"
    },
    {
     "data": {
      "text/plain": [
       "<Figure size 864x432 with 0 Axes>"
      ]
     },
     "metadata": {},
     "output_type": "display_data"
    },
    {
     "data": {
      "image/png": "[encoded data removed]",
      "text/plain": [
       "<Figure size 1080x1080 with 42 Axes>"
      ]
     },
     "metadata": {
      "needs_background": "light"
     },
     "output_type": "display_data"
    }
   ],
   "source": [
    "# Диаграммы рассеяние для всех признаков\n",
    "plt.figure(figsize=(12,6))\n",
    "sns.pairplot(data)"
   ]
  },
  {
   "cell_type": "code",
   "execution_count": 17,
   "metadata": {
    "scrolled": true
   },
   "outputs": [
    {
     "data": {
      "text/plain": [
       "<seaborn.axisgrid.JointGrid at 0x2b5ebfa1790>"
      ]
     },
     "execution_count": 17,
     "metadata": {},
     "output_type": "execute_result"
    },
    {
     "data": {
      "image/png": "[encoded data removed]",
      "text/plain": [
       "<Figure size 432x432 with 3 Axes>"
      ]
     },
     "metadata": {
      "needs_background": "light"
     },
     "output_type": "display_data"
    }
   ],
   "source": [
    "# Увеличенные диаграммы рассеяния для признаков, которые имеют зависимость\n",
    "sns.jointplot(x = \"nb_of_Cores\", y = \"nb_of_Threads\", kind=\"scatter\", data = data)"
   ]
  },
  {
   "cell_type": "markdown",
   "metadata": {},
   "source": [
    "## 4) Корреляции признаков"
   ]
  },
  {
   "cell_type": "code",
   "execution_count": 18,
   "metadata": {},
   "outputs": [],
   "source": [
    "corr_matrix = data.corr()"
   ]
  },
  {
   "cell_type": "code",
   "execution_count": 19,
   "metadata": {},
   "outputs": [
    {
     "data": {
      "text/plain": [
       "nb_of_Cores                    1.000000\n",
       "nb_of_Threads                  0.978421\n",
       "Max_nb_of_Memory_Channels      0.782281\n",
       "Processor_Graphics_                 NaN\n",
       "OpenGL_Support                      NaN\n",
       "Max_nb_of_PCI_Express_Lanes    0.489602\n",
       "Name: nb_of_Cores, dtype: float64"
      ]
     },
     "execution_count": 19,
     "metadata": {},
     "output_type": "execute_result"
    }
   ],
   "source": [
    "corr_matrix['nb_of_Cores']"
   ]
  },
  {
   "cell_type": "code",
   "execution_count": 20,
   "metadata": {},
   "outputs": [
    {
     "data": {
      "text/plain": [
       "<AxesSubplot:>"
      ]
     },
     "execution_count": 20,
     "metadata": {},
     "output_type": "execute_result"
    },
    {
     "data": {
      "image/png": "[encoded data removed]",
      "text/plain": [
       "<Figure size 432x288 with 2 Axes>"
      ]
     },
     "metadata": {
      "needs_background": "light"
     },
     "output_type": "display_data"
    }
   ],
   "source": [
    "sns.heatmap(data.corr(), annot=True, fmt='.3f')"
   ]
  },
  {
   "cell_type": "code",
   "execution_count": null,
   "metadata": {},
   "outputs": [],
   "source": []
  }
 ],
 "metadata": {
  "kernelspec": {
   "display_name": "Python 3",
   "language": "python",
   "name": "python3"
  },
  "language_info": {
   "codemirror_mode": {
    "name": "ipython",
    "version": 3
   },
   "file_extension": ".py",
   "mimetype": "text/x-python",
   "name": "python",
   "nbconvert_exporter": "python",
   "pygments_lexer": "ipython3",
   "version": "3.8.8"
  }
 },
 "nbformat": 4,
 "nbformat_minor": 4
}
