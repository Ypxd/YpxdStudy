{
 "cells": [
  {
   "cell_type": "markdown",
   "id": "98af4319",
   "metadata": {},
   "source": [
    "# ЛР №2"
   ]
  },
  {
   "cell_type": "code",
   "execution_count": 31,
   "id": "84dd8656",
   "metadata": {},
   "outputs": [],
   "source": [
    "import numpy as np\n",
    "import pandas as pd\n",
    "import seaborn as sns\n",
    "import matplotlib.pyplot as plt\n",
    "from pandas.plotting import scatter_matrix\n",
    "import warnings\n",
    "warnings.filterwarnings('ignore')\n",
    "sns.set(style=\"ticks\")\n",
    "%matplotlib inline"
   ]
  },
  {
   "cell_type": "code",
   "execution_count": 32,
   "id": "75a249ac",
   "metadata": {},
   "outputs": [],
   "source": [
    "data = pd.read_csv('All_GPUs.csv', sep=',')"
   ]
  },
  {
   "cell_type": "code",
   "execution_count": 33,
   "id": "a63ef566",
   "metadata": {},
   "outputs": [
    {
     "data": {
      "text/html": [
       "<div>\n",
       "<style scoped>\n",
       "    .dataframe tbody tr th:only-of-type {\n",
       "        vertical-align: middle;\n",
       "    }\n",
       "\n",
       "    .dataframe tbody tr th {\n",
       "        vertical-align: top;\n",
       "    }\n",
       "\n",
       "    .dataframe thead th {\n",
       "        text-align: right;\n",
       "    }\n",
       "</style>\n",
       "<table border=\"1\" class=\"dataframe\">\n",
       "  <thead>\n",
       "    <tr style=\"text-align: right;\">\n",
       "      <th></th>\n",
       "      <th>Architecture</th>\n",
       "      <th>Best_Resolution</th>\n",
       "      <th>Boost_Clock</th>\n",
       "      <th>Core_Speed</th>\n",
       "      <th>DVI_Connection</th>\n",
       "      <th>Dedicated</th>\n",
       "      <th>Direct_X</th>\n",
       "      <th>DisplayPort_Connection</th>\n",
       "      <th>HDMI_Connection</th>\n",
       "      <th>Integrated</th>\n",
       "      <th>...</th>\n",
       "      <th>Process</th>\n",
       "      <th>ROPs</th>\n",
       "      <th>Release_Date</th>\n",
       "      <th>Release_Price</th>\n",
       "      <th>Resolution_WxH</th>\n",
       "      <th>SLI_Crossfire</th>\n",
       "      <th>Shader</th>\n",
       "      <th>TMUs</th>\n",
       "      <th>Texture_Rate</th>\n",
       "      <th>VGA_Connection</th>\n",
       "    </tr>\n",
       "  </thead>\n",
       "  <tbody>\n",
       "    <tr>\n",
       "      <th>0</th>\n",
       "      <td>Tesla G92b</td>\n",
       "      <td>NaN</td>\n",
       "      <td>NaN</td>\n",
       "      <td>738 MHz</td>\n",
       "      <td>2.0</td>\n",
       "      <td>Yes</td>\n",
       "      <td>DX 10.0</td>\n",
       "      <td>NaN</td>\n",
       "      <td>0.0</td>\n",
       "      <td>No</td>\n",
       "      <td>...</td>\n",
       "      <td>55nm</td>\n",
       "      <td>16</td>\n",
       "      <td>\\n01-Mar-2009</td>\n",
       "      <td>NaN</td>\n",
       "      <td>2560x1600</td>\n",
       "      <td>Yes</td>\n",
       "      <td>4.0</td>\n",
       "      <td>64.0</td>\n",
       "      <td>47 GTexel/s</td>\n",
       "      <td>0.0</td>\n",
       "    </tr>\n",
       "    <tr>\n",
       "      <th>1</th>\n",
       "      <td>R600 XT</td>\n",
       "      <td>1366 x 768</td>\n",
       "      <td>NaN</td>\n",
       "      <td>\\n-</td>\n",
       "      <td>2.0</td>\n",
       "      <td>Yes</td>\n",
       "      <td>DX 10</td>\n",
       "      <td>NaN</td>\n",
       "      <td>0.0</td>\n",
       "      <td>No</td>\n",
       "      <td>...</td>\n",
       "      <td>80nm</td>\n",
       "      <td>16</td>\n",
       "      <td>\\n14-May-2007</td>\n",
       "      <td>NaN</td>\n",
       "      <td>2560x1600</td>\n",
       "      <td>Yes</td>\n",
       "      <td>4.0</td>\n",
       "      <td>16.0</td>\n",
       "      <td>12 GTexel/s</td>\n",
       "      <td>0.0</td>\n",
       "    </tr>\n",
       "    <tr>\n",
       "      <th>2</th>\n",
       "      <td>R600 PRO</td>\n",
       "      <td>1366 x 768</td>\n",
       "      <td>NaN</td>\n",
       "      <td>\\n-</td>\n",
       "      <td>2.0</td>\n",
       "      <td>Yes</td>\n",
       "      <td>DX 10</td>\n",
       "      <td>NaN</td>\n",
       "      <td>0.0</td>\n",
       "      <td>No</td>\n",
       "      <td>...</td>\n",
       "      <td>80nm</td>\n",
       "      <td>16</td>\n",
       "      <td>\\n07-Dec-2007</td>\n",
       "      <td>NaN</td>\n",
       "      <td>2560x1600</td>\n",
       "      <td>Yes</td>\n",
       "      <td>4.0</td>\n",
       "      <td>16.0</td>\n",
       "      <td>10 GTexel/s</td>\n",
       "      <td>0.0</td>\n",
       "    </tr>\n",
       "    <tr>\n",
       "      <th>3</th>\n",
       "      <td>RV630</td>\n",
       "      <td>1024 x 768</td>\n",
       "      <td>NaN</td>\n",
       "      <td>\\n-</td>\n",
       "      <td>2.0</td>\n",
       "      <td>Yes</td>\n",
       "      <td>DX 10</td>\n",
       "      <td>NaN</td>\n",
       "      <td>0.0</td>\n",
       "      <td>No</td>\n",
       "      <td>...</td>\n",
       "      <td>65nm</td>\n",
       "      <td>4</td>\n",
       "      <td>\\n01-Jul-2007</td>\n",
       "      <td>NaN</td>\n",
       "      <td>2560x1600</td>\n",
       "      <td>Yes</td>\n",
       "      <td>4.0</td>\n",
       "      <td>8.0</td>\n",
       "      <td>7 GTexel/s</td>\n",
       "      <td>0.0</td>\n",
       "    </tr>\n",
       "    <tr>\n",
       "      <th>4</th>\n",
       "      <td>RV630</td>\n",
       "      <td>1024 x 768</td>\n",
       "      <td>NaN</td>\n",
       "      <td>\\n-</td>\n",
       "      <td>2.0</td>\n",
       "      <td>Yes</td>\n",
       "      <td>DX 10</td>\n",
       "      <td>NaN</td>\n",
       "      <td>0.0</td>\n",
       "      <td>No</td>\n",
       "      <td>...</td>\n",
       "      <td>65nm</td>\n",
       "      <td>4</td>\n",
       "      <td>\\n28-Jun-2007</td>\n",
       "      <td>NaN</td>\n",
       "      <td>2560x1600</td>\n",
       "      <td>Yes</td>\n",
       "      <td>4.0</td>\n",
       "      <td>8.0</td>\n",
       "      <td>6 GTexel/s</td>\n",
       "      <td>0.0</td>\n",
       "    </tr>\n",
       "  </tbody>\n",
       "</table>\n",
       "<p>5 rows × 34 columns</p>\n",
       "</div>"
      ],
      "text/plain": [
       "  Architecture Best_Resolution Boost_Clock Core_Speed  DVI_Connection  \\\n",
       "0  Tesla G92b              NaN         NaN    738 MHz             2.0   \n",
       "1     R600 XT       1366 x 768         NaN       \\n-              2.0   \n",
       "2    R600 PRO       1366 x 768         NaN       \\n-              2.0   \n",
       "3       RV630       1024 x 768         NaN       \\n-              2.0   \n",
       "4       RV630       1024 x 768         NaN       \\n-              2.0   \n",
       "\n",
       "  Dedicated Direct_X  DisplayPort_Connection  HDMI_Connection Integrated  ...  \\\n",
       "0       Yes  DX 10.0                     NaN              0.0         No  ...   \n",
       "1       Yes    DX 10                     NaN              0.0         No  ...   \n",
       "2       Yes    DX 10                     NaN              0.0         No  ...   \n",
       "3       Yes    DX 10                     NaN              0.0         No  ...   \n",
       "4       Yes    DX 10                     NaN              0.0         No  ...   \n",
       "\n",
       "  Process ROPs    Release_Date Release_Price Resolution_WxH SLI_Crossfire  \\\n",
       "0    55nm   16  \\n01-Mar-2009            NaN      2560x1600           Yes   \n",
       "1    80nm   16  \\n14-May-2007            NaN      2560x1600           Yes   \n",
       "2    80nm   16  \\n07-Dec-2007            NaN      2560x1600           Yes   \n",
       "3    65nm    4  \\n01-Jul-2007            NaN      2560x1600           Yes   \n",
       "4    65nm    4  \\n28-Jun-2007            NaN      2560x1600           Yes   \n",
       "\n",
       "  Shader  TMUs Texture_Rate VGA_Connection  \n",
       "0    4.0  64.0  47 GTexel/s            0.0  \n",
       "1    4.0  16.0  12 GTexel/s            0.0  \n",
       "2    4.0  16.0  10 GTexel/s            0.0  \n",
       "3    4.0   8.0   7 GTexel/s            0.0  \n",
       "4    4.0   8.0   6 GTexel/s            0.0  \n",
       "\n",
       "[5 rows x 34 columns]"
      ]
     },
     "execution_count": 33,
     "metadata": {},
     "output_type": "execute_result"
    }
   ],
   "source": [
    "data.head()"
   ]
  },
  {
   "cell_type": "code",
   "execution_count": 34,
   "id": "bb23911e",
   "metadata": {},
   "outputs": [
    {
     "data": {
      "text/plain": [
       "(3406, 34)"
      ]
     },
     "execution_count": 34,
     "metadata": {},
     "output_type": "execute_result"
    }
   ],
   "source": [
    "data.shape"
   ]
  },
  {
   "cell_type": "code",
   "execution_count": 35,
   "id": "fc600c5b",
   "metadata": {},
   "outputs": [
    {
     "data": {
      "text/plain": [
       "Architecture                62\n",
       "Best_Resolution            642\n",
       "Boost_Clock               1960\n",
       "Core_Speed                   0\n",
       "DVI_Connection             750\n",
       "Dedicated                   14\n",
       "Direct_X                     6\n",
       "DisplayPort_Connection    2549\n",
       "HDMI_Connection            763\n",
       "Integrated                  14\n",
       "L2_Cache                     0\n",
       "Manufacturer                 0\n",
       "Max_Power                  625\n",
       "Memory                     420\n",
       "Memory_Bandwidth           121\n",
       "Memory_Bus                  62\n",
       "Memory_Speed               105\n",
       "Memory_Type                 56\n",
       "Name                         0\n",
       "Notebook_GPU                 0\n",
       "Open_GL                     40\n",
       "PSU                       1175\n",
       "Pixel_Rate                 544\n",
       "Power_Connector            709\n",
       "Process                    463\n",
       "ROPs                       538\n",
       "Release_Date                 0\n",
       "Release_Price             2850\n",
       "Resolution_WxH             195\n",
       "SLI_Crossfire                0\n",
       "Shader                     107\n",
       "TMUs                       538\n",
       "Texture_Rate               544\n",
       "VGA_Connection             758\n",
       "dtype: int64"
      ]
     },
     "execution_count": 35,
     "metadata": {},
     "output_type": "execute_result"
    }
   ],
   "source": [
    "data.isnull().sum()"
   ]
  },
  {
   "cell_type": "code",
   "execution_count": 36,
   "id": "8a781249",
   "metadata": {},
   "outputs": [
    {
     "data": {
      "text/plain": [
       "Architecture               object\n",
       "Best_Resolution            object\n",
       "Boost_Clock                object\n",
       "Core_Speed                 object\n",
       "DVI_Connection            float64\n",
       "Dedicated                  object\n",
       "Direct_X                   object\n",
       "DisplayPort_Connection    float64\n",
       "HDMI_Connection           float64\n",
       "Integrated                 object\n",
       "L2_Cache                   object\n",
       "Manufacturer               object\n",
       "Max_Power                  object\n",
       "Memory                     object\n",
       "Memory_Bandwidth           object\n",
       "Memory_Bus                 object\n",
       "Memory_Speed               object\n",
       "Memory_Type                object\n",
       "Name                       object\n",
       "Notebook_GPU               object\n",
       "Open_GL                   float64\n",
       "PSU                        object\n",
       "Pixel_Rate                 object\n",
       "Power_Connector            object\n",
       "Process                    object\n",
       "ROPs                       object\n",
       "Release_Date               object\n",
       "Release_Price              object\n",
       "Resolution_WxH             object\n",
       "SLI_Crossfire              object\n",
       "Shader                    float64\n",
       "TMUs                      float64\n",
       "Texture_Rate               object\n",
       "VGA_Connection            float64\n",
       "dtype: object"
      ]
     },
     "execution_count": 36,
     "metadata": {},
     "output_type": "execute_result"
    }
   ],
   "source": [
    "data.dtypes"
   ]
  },
  {
   "cell_type": "code",
   "execution_count": 37,
   "id": "93904347",
   "metadata": {},
   "outputs": [
    {
     "name": "stdout",
     "output_type": "stream",
     "text": [
      "<class 'pandas.core.frame.DataFrame'>\n",
      "RangeIndex: 3406 entries, 0 to 3405\n",
      "Data columns (total 34 columns):\n",
      " #   Column                  Non-Null Count  Dtype  \n",
      "---  ------                  --------------  -----  \n",
      " 0   Architecture            3344 non-null   object \n",
      " 1   Best_Resolution         2764 non-null   object \n",
      " 2   Boost_Clock             1446 non-null   object \n",
      " 3   Core_Speed              3406 non-null   object \n",
      " 4   DVI_Connection          2656 non-null   float64\n",
      " 5   Dedicated               3392 non-null   object \n",
      " 6   Direct_X                3400 non-null   object \n",
      " 7   DisplayPort_Connection  857 non-null    float64\n",
      " 8   HDMI_Connection         2643 non-null   float64\n",
      " 9   Integrated              3392 non-null   object \n",
      " 10  L2_Cache                3406 non-null   object \n",
      " 11  Manufacturer            3406 non-null   object \n",
      " 12  Max_Power               2781 non-null   object \n",
      " 13  Memory                  2986 non-null   object \n",
      " 14  Memory_Bandwidth        3285 non-null   object \n",
      " 15  Memory_Bus              3344 non-null   object \n",
      " 16  Memory_Speed            3301 non-null   object \n",
      " 17  Memory_Type             3350 non-null   object \n",
      " 18  Name                    3406 non-null   object \n",
      " 19  Notebook_GPU            3406 non-null   object \n",
      " 20  Open_GL                 3366 non-null   float64\n",
      " 21  PSU                     2231 non-null   object \n",
      " 22  Pixel_Rate              2862 non-null   object \n",
      " 23  Power_Connector         2697 non-null   object \n",
      " 24  Process                 2943 non-null   object \n",
      " 25  ROPs                    2868 non-null   object \n",
      " 26  Release_Date            3406 non-null   object \n",
      " 27  Release_Price           556 non-null    object \n",
      " 28  Resolution_WxH          3211 non-null   object \n",
      " 29  SLI_Crossfire           3406 non-null   object \n",
      " 30  Shader                  3299 non-null   float64\n",
      " 31  TMUs                    2868 non-null   float64\n",
      " 32  Texture_Rate            2862 non-null   object \n",
      " 33  VGA_Connection          2648 non-null   float64\n",
      "dtypes: float64(7), object(27)\n",
      "memory usage: 904.8+ KB\n"
     ]
    }
   ],
   "source": [
    "data.info()"
   ]
  },
  {
   "cell_type": "code",
   "execution_count": 38,
   "id": "47907891",
   "metadata": {},
   "outputs": [
    {
     "data": {
      "text/html": [
       "<div>\n",
       "<style scoped>\n",
       "    .dataframe tbody tr th:only-of-type {\n",
       "        vertical-align: middle;\n",
       "    }\n",
       "\n",
       "    .dataframe tbody tr th {\n",
       "        vertical-align: top;\n",
       "    }\n",
       "\n",
       "    .dataframe thead th {\n",
       "        text-align: right;\n",
       "    }\n",
       "</style>\n",
       "<table border=\"1\" class=\"dataframe\">\n",
       "  <thead>\n",
       "    <tr style=\"text-align: right;\">\n",
       "      <th></th>\n",
       "      <th>DVI_Connection</th>\n",
       "      <th>DisplayPort_Connection</th>\n",
       "      <th>HDMI_Connection</th>\n",
       "      <th>Open_GL</th>\n",
       "      <th>Shader</th>\n",
       "      <th>TMUs</th>\n",
       "      <th>VGA_Connection</th>\n",
       "    </tr>\n",
       "  </thead>\n",
       "  <tbody>\n",
       "    <tr>\n",
       "      <th>count</th>\n",
       "      <td>2656.000000</td>\n",
       "      <td>857.000000</td>\n",
       "      <td>2643.000000</td>\n",
       "      <td>3366.000000</td>\n",
       "      <td>3299.000000</td>\n",
       "      <td>2868.000000</td>\n",
       "      <td>2648.000000</td>\n",
       "    </tr>\n",
       "    <tr>\n",
       "      <th>mean</th>\n",
       "      <td>1.355798</td>\n",
       "      <td>1.612602</td>\n",
       "      <td>0.842225</td>\n",
       "      <td>4.018301</td>\n",
       "      <td>4.706032</td>\n",
       "      <td>69.382148</td>\n",
       "      <td>0.219033</td>\n",
       "    </tr>\n",
       "    <tr>\n",
       "      <th>std</th>\n",
       "      <td>0.718539</td>\n",
       "      <td>1.223497</td>\n",
       "      <td>0.478614</td>\n",
       "      <td>0.870236</td>\n",
       "      <td>0.692516</td>\n",
       "      <td>54.431844</td>\n",
       "      <td>0.436769</td>\n",
       "    </tr>\n",
       "    <tr>\n",
       "      <th>min</th>\n",
       "      <td>0.000000</td>\n",
       "      <td>0.000000</td>\n",
       "      <td>0.000000</td>\n",
       "      <td>1.000000</td>\n",
       "      <td>1.000000</td>\n",
       "      <td>1.000000</td>\n",
       "      <td>0.000000</td>\n",
       "    </tr>\n",
       "    <tr>\n",
       "      <th>25%</th>\n",
       "      <td>1.000000</td>\n",
       "      <td>1.000000</td>\n",
       "      <td>1.000000</td>\n",
       "      <td>4.200000</td>\n",
       "      <td>5.000000</td>\n",
       "      <td>24.000000</td>\n",
       "      <td>0.000000</td>\n",
       "    </tr>\n",
       "    <tr>\n",
       "      <th>50%</th>\n",
       "      <td>1.000000</td>\n",
       "      <td>1.000000</td>\n",
       "      <td>1.000000</td>\n",
       "      <td>4.400000</td>\n",
       "      <td>5.000000</td>\n",
       "      <td>56.000000</td>\n",
       "      <td>0.000000</td>\n",
       "    </tr>\n",
       "    <tr>\n",
       "      <th>75%</th>\n",
       "      <td>2.000000</td>\n",
       "      <td>3.000000</td>\n",
       "      <td>1.000000</td>\n",
       "      <td>4.500000</td>\n",
       "      <td>5.000000</td>\n",
       "      <td>104.000000</td>\n",
       "      <td>0.000000</td>\n",
       "    </tr>\n",
       "    <tr>\n",
       "      <th>max</th>\n",
       "      <td>4.000000</td>\n",
       "      <td>4.000000</td>\n",
       "      <td>3.000000</td>\n",
       "      <td>4.500000</td>\n",
       "      <td>5.000000</td>\n",
       "      <td>384.000000</td>\n",
       "      <td>4.000000</td>\n",
       "    </tr>\n",
       "  </tbody>\n",
       "</table>\n",
       "</div>"
      ],
      "text/plain": [
       "       DVI_Connection  DisplayPort_Connection  HDMI_Connection      Open_GL  \\\n",
       "count     2656.000000              857.000000      2643.000000  3366.000000   \n",
       "mean         1.355798                1.612602         0.842225     4.018301   \n",
       "std          0.718539                1.223497         0.478614     0.870236   \n",
       "min          0.000000                0.000000         0.000000     1.000000   \n",
       "25%          1.000000                1.000000         1.000000     4.200000   \n",
       "50%          1.000000                1.000000         1.000000     4.400000   \n",
       "75%          2.000000                3.000000         1.000000     4.500000   \n",
       "max          4.000000                4.000000         3.000000     4.500000   \n",
       "\n",
       "            Shader         TMUs  VGA_Connection  \n",
       "count  3299.000000  2868.000000     2648.000000  \n",
       "mean      4.706032    69.382148        0.219033  \n",
       "std       0.692516    54.431844        0.436769  \n",
       "min       1.000000     1.000000        0.000000  \n",
       "25%       5.000000    24.000000        0.000000  \n",
       "50%       5.000000    56.000000        0.000000  \n",
       "75%       5.000000   104.000000        0.000000  \n",
       "max       5.000000   384.000000        4.000000  "
      ]
     },
     "execution_count": 38,
     "metadata": {},
     "output_type": "execute_result"
    }
   ],
   "source": [
    "data.describe()"
   ]
  },
  {
   "cell_type": "code",
   "execution_count": 40,
   "id": "f47f2dfb",
   "metadata": {},
   "outputs": [],
   "source": [
    "data_new_1 = data.dropna(axis = 0, how=\"any\")"
   ]
  },
  {
   "cell_type": "code",
   "execution_count": 43,
   "id": "119e46a0",
   "metadata": {},
   "outputs": [
    {
     "data": {
      "text/plain": [
       "Architecture              0\n",
       "Best_Resolution           0\n",
       "Boost_Clock               0\n",
       "Core_Speed                0\n",
       "DVI_Connection            0\n",
       "Dedicated                 0\n",
       "Direct_X                  0\n",
       "DisplayPort_Connection    0\n",
       "HDMI_Connection           0\n",
       "Integrated                0\n",
       "L2_Cache                  0\n",
       "Manufacturer              0\n",
       "Max_Power                 0\n",
       "Memory                    0\n",
       "Memory_Bandwidth          0\n",
       "Memory_Bus                0\n",
       "Memory_Speed              0\n",
       "Memory_Type               0\n",
       "Name                      0\n",
       "Notebook_GPU              0\n",
       "Open_GL                   0\n",
       "PSU                       0\n",
       "Pixel_Rate                0\n",
       "Power_Connector           0\n",
       "Process                   0\n",
       "ROPs                      0\n",
       "Release_Date              0\n",
       "Release_Price             0\n",
       "Resolution_WxH            0\n",
       "SLI_Crossfire             0\n",
       "Shader                    0\n",
       "TMUs                      0\n",
       "Texture_Rate              0\n",
       "VGA_Connection            0\n",
       "dtype: int64"
      ]
     },
     "execution_count": 43,
     "metadata": {},
     "output_type": "execute_result"
    }
   ],
   "source": [
    "data_new_1.isnull().sum()"
   ]
  },
  {
   "cell_type": "code",
   "execution_count": 44,
   "id": "39e33881",
   "metadata": {},
   "outputs": [
    {
     "data": {
      "text/plain": [
       "(288, 34)"
      ]
     },
     "execution_count": 44,
     "metadata": {},
     "output_type": "execute_result"
    }
   ],
   "source": [
    "data_new_1.shape"
   ]
  },
  {
   "cell_type": "code",
   "execution_count": 45,
   "id": "40312855",
   "metadata": {},
   "outputs": [
    {
     "name": "stdout",
     "output_type": "stream",
     "text": [
      "Колонка DVI_Connection. Тип данных float64. Количество пустых значений 750, 22.02%.\n",
      "Колонка DisplayPort_Connection. Тип данных float64. Количество пустых значений 2549, 74.84%.\n",
      "Колонка HDMI_Connection. Тип данных float64. Количество пустых значений 763, 22.4%.\n",
      "Колонка Open_GL. Тип данных float64. Количество пустых значений 40, 1.17%.\n",
      "Колонка Shader. Тип данных float64. Количество пустых значений 107, 3.14%.\n",
      "Колонка TMUs. Тип данных float64. Количество пустых значений 538, 15.8%.\n",
      "Колонка VGA_Connection. Тип данных float64. Количество пустых значений 758, 22.25%.\n",
      "['DVI_Connection', 'DisplayPort_Connection', 'HDMI_Connection', 'Open_GL', 'Shader', 'TMUs', 'VGA_Connection']\n"
     ]
    }
   ],
   "source": [
    "total_count = data.shape[0]\n",
    "Ncols = []\n",
    "for col in data.columns:\n",
    "    temp_null_count = data[data[col].isnull()].shape[0]\n",
    "    dt = str(data[col].dtype)\n",
    "    if temp_null_count>0 and (dt=='float64' or dt=='int64'):\n",
    "        Ncols.append(col)\n",
    "        temp_perc = round((temp_null_count / total_count) * 100.0, 2)\n",
    "        print('Колонка {}. Тип данных {}. Количество пустых значений {}, {}%.'.format(col, dt, temp_null_count, temp_perc))\n",
    "print(Ncols)"
   ]
  },
  {
   "cell_type": "code",
   "execution_count": 46,
   "id": "3d30cebd",
   "metadata": {},
   "outputs": [
    {
     "data": {
      "image/png": "[encoded data removed]",
      "text/plain": [
       "<Figure size 432x288 with 1 Axes>"
      ]
     },
     "metadata": {
      "needs_background": "light"
     },
     "output_type": "display_data"
    },
    {
     "data": {
      "image/png": "[encoded data removed]",
      "text/plain": [
       "<Figure size 432x288 with 1 Axes>"
      ]
     },
     "metadata": {
      "needs_background": "light"
     },
     "output_type": "display_data"
    },
    {
     "data": {
      "image/png": "[encoded data removed]",
      "text/plain": [
       "<Figure size 432x288 with 1 Axes>"
      ]
     },
     "metadata": {
      "needs_background": "light"
     },
     "output_type": "display_data"
    },
    {
     "data": {
      "image/png": "[encoded data removed]",
      "text/plain": [
       "<Figure size 432x288 with 1 Axes>"
      ]
     },
     "metadata": {
      "needs_background": "light"
     },
     "output_type": "display_data"
    },
    {
     "data": {
      "image/png": "[encoded data removed]",
      "text/plain": [
       "<Figure size 432x288 with 1 Axes>"
      ]
     },
     "metadata": {
      "needs_background": "light"
     },
     "output_type": "display_data"
    },
    {
     "data": {
      "image/png": "[encoded data removed]",
      "text/plain": [
       "<Figure size 432x288 with 1 Axes>"
      ]
     },
     "metadata": {
      "needs_background": "light"
     },
     "output_type": "display_data"
    },
    {
     "data": {
      "image/png": "[encoded data removed]",
      "text/plain": [
       "<Figure size 432x288 with 1 Axes>"
      ]
     },
     "metadata": {
      "needs_background": "light"
     },
     "output_type": "display_data"
    }
   ],
   "source": [
    "for col in data[Ncols]:\n",
    "    plt.hist(data[Ncols][col], 50)\n",
    "    plt.xlabel(col)\n",
    "    plt.show()"
   ]
  },
  {
   "cell_type": "code",
   "execution_count": 47,
   "id": "9d45bb32",
   "metadata": {},
   "outputs": [
    {
     "data": {
      "text/html": [
       "<div>\n",
       "<style scoped>\n",
       "    .dataframe tbody tr th:only-of-type {\n",
       "        vertical-align: middle;\n",
       "    }\n",
       "\n",
       "    .dataframe tbody tr th {\n",
       "        vertical-align: top;\n",
       "    }\n",
       "\n",
       "    .dataframe thead th {\n",
       "        text-align: right;\n",
       "    }\n",
       "</style>\n",
       "<table border=\"1\" class=\"dataframe\">\n",
       "  <thead>\n",
       "    <tr style=\"text-align: right;\">\n",
       "      <th></th>\n",
       "      <th>TMUs</th>\n",
       "    </tr>\n",
       "  </thead>\n",
       "  <tbody>\n",
       "    <tr>\n",
       "      <th>0</th>\n",
       "      <td>64.0</td>\n",
       "    </tr>\n",
       "    <tr>\n",
       "      <th>1</th>\n",
       "      <td>16.0</td>\n",
       "    </tr>\n",
       "    <tr>\n",
       "      <th>2</th>\n",
       "      <td>16.0</td>\n",
       "    </tr>\n",
       "    <tr>\n",
       "      <th>3</th>\n",
       "      <td>8.0</td>\n",
       "    </tr>\n",
       "    <tr>\n",
       "      <th>4</th>\n",
       "      <td>8.0</td>\n",
       "    </tr>\n",
       "  </tbody>\n",
       "</table>\n",
       "</div>"
      ],
      "text/plain": [
       "   TMUs\n",
       "0  64.0\n",
       "1  16.0\n",
       "2  16.0\n",
       "3   8.0\n",
       "4   8.0"
      ]
     },
     "execution_count": 47,
     "metadata": {},
     "output_type": "execute_result"
    }
   ],
   "source": [
    "data_num_TMUs = data[Ncols][['TMUs']]\n",
    "data_num_TMUs.head()"
   ]
  },
  {
   "cell_type": "code",
   "execution_count": 48,
   "id": "cb65f12b",
   "metadata": {},
   "outputs": [],
   "source": [
    "from sklearn.impute import SimpleImputer\n",
    "from sklearn.impute import MissingIndicator"
   ]
  },
  {
   "cell_type": "code",
   "execution_count": 49,
   "id": "60124b68",
   "metadata": {},
   "outputs": [
    {
     "data": {
      "text/plain": [
       "array([[False],\n",
       "       [False],\n",
       "       [False],\n",
       "       ...,\n",
       "       [ True],\n",
       "       [ True],\n",
       "       [ True]])"
      ]
     },
     "execution_count": 49,
     "metadata": {},
     "output_type": "execute_result"
    }
   ],
   "source": [
    "# Фильтр для проверки заполнения пустых значений\n",
    "indicator = MissingIndicator()\n",
    "mask_missing_values_only = indicator.fit_transform(data_num_TMUs)\n",
    "mask_missing_values_only"
   ]
  },
  {
   "cell_type": "code",
   "execution_count": 50,
   "id": "46815682",
   "metadata": {},
   "outputs": [],
   "source": [
    "strategies=['mean', 'median', 'most_frequent']"
   ]
  },
  {
   "cell_type": "code",
   "execution_count": 51,
   "id": "841bde8c",
   "metadata": {},
   "outputs": [],
   "source": [
    "def test_num_impute(strategy_param):\n",
    "    imp_num = SimpleImputer(strategy=strategy_param)\n",
    "    data_num_imp = imp_num.fit_transform(data_num_TMUs)\n",
    "    return data_num_imp[mask_missing_values_only]"
   ]
  },
  {
   "cell_type": "code",
   "execution_count": 52,
   "id": "c4aa41cd",
   "metadata": {},
   "outputs": [
    {
     "data": {
      "text/plain": [
       "('mean',\n",
       " array([69.38214784, 69.38214784, 69.38214784, 69.38214784, 69.38214784,\n",
       "        69.38214784, 69.38214784, 69.38214784, 69.38214784, 69.38214784,\n",
       "        69.38214784, 69.38214784, 69.38214784, 69.38214784, 69.38214784,\n",
       "        69.38214784, 69.38214784, 69.38214784, 69.38214784, 69.38214784,\n",
       "        69.38214784, 69.38214784, 69.38214784, 69.38214784, 69.38214784,\n",
       "        69.38214784, 69.38214784, 69.38214784, 69.38214784, 69.38214784,\n",
       "        69.38214784, 69.38214784, 69.38214784, 69.38214784, 69.38214784,\n",
       "        69.38214784, 69.38214784, 69.38214784, 69.38214784, 69.38214784,\n",
       "        69.38214784, 69.38214784, 69.38214784, 69.38214784, 69.38214784,\n",
       "        69.38214784, 69.38214784, 69.38214784, 69.38214784, 69.38214784,\n",
       "        69.38214784, 69.38214784, 69.38214784, 69.38214784, 69.38214784,\n",
       "        69.38214784, 69.38214784, 69.38214784, 69.38214784, 69.38214784,\n",
       "        69.38214784, 69.38214784, 69.38214784, 69.38214784, 69.38214784,\n",
       "        69.38214784, 69.38214784, 69.38214784, 69.38214784, 69.38214784,\n",
       "        69.38214784, 69.38214784, 69.38214784, 69.38214784, 69.38214784,\n",
       "        69.38214784, 69.38214784, 69.38214784, 69.38214784, 69.38214784,\n",
       "        69.38214784, 69.38214784, 69.38214784, 69.38214784, 69.38214784,\n",
       "        69.38214784, 69.38214784, 69.38214784, 69.38214784, 69.38214784,\n",
       "        69.38214784, 69.38214784, 69.38214784, 69.38214784, 69.38214784,\n",
       "        69.38214784, 69.38214784, 69.38214784, 69.38214784, 69.38214784,\n",
       "        69.38214784, 69.38214784, 69.38214784, 69.38214784, 69.38214784,\n",
       "        69.38214784, 69.38214784, 69.38214784, 69.38214784, 69.38214784,\n",
       "        69.38214784, 69.38214784, 69.38214784, 69.38214784, 69.38214784,\n",
       "        69.38214784, 69.38214784, 69.38214784, 69.38214784, 69.38214784,\n",
       "        69.38214784, 69.38214784, 69.38214784, 69.38214784, 69.38214784,\n",
       "        69.38214784, 69.38214784, 69.38214784, 69.38214784, 69.38214784,\n",
       "        69.38214784, 69.38214784, 69.38214784, 69.38214784, 69.38214784,\n",
       "        69.38214784, 69.38214784, 69.38214784, 69.38214784, 69.38214784,\n",
       "        69.38214784, 69.38214784, 69.38214784, 69.38214784, 69.38214784,\n",
       "        69.38214784, 69.38214784, 69.38214784, 69.38214784, 69.38214784,\n",
       "        69.38214784, 69.38214784, 69.38214784, 69.38214784, 69.38214784,\n",
       "        69.38214784, 69.38214784, 69.38214784, 69.38214784, 69.38214784,\n",
       "        69.38214784, 69.38214784, 69.38214784, 69.38214784, 69.38214784,\n",
       "        69.38214784, 69.38214784, 69.38214784, 69.38214784, 69.38214784,\n",
       "        69.38214784, 69.38214784, 69.38214784, 69.38214784, 69.38214784,\n",
       "        69.38214784, 69.38214784, 69.38214784, 69.38214784, 69.38214784,\n",
       "        69.38214784, 69.38214784, 69.38214784, 69.38214784, 69.38214784,\n",
       "        69.38214784, 69.38214784, 69.38214784, 69.38214784, 69.38214784,\n",
       "        69.38214784, 69.38214784, 69.38214784, 69.38214784, 69.38214784,\n",
       "        69.38214784, 69.38214784, 69.38214784, 69.38214784, 69.38214784,\n",
       "        69.38214784, 69.38214784, 69.38214784, 69.38214784, 69.38214784,\n",
       "        69.38214784, 69.38214784, 69.38214784, 69.38214784, 69.38214784,\n",
       "        69.38214784, 69.38214784, 69.38214784, 69.38214784, 69.38214784,\n",
       "        69.38214784, 69.38214784, 69.38214784, 69.38214784, 69.38214784,\n",
       "        69.38214784, 69.38214784, 69.38214784, 69.38214784, 69.38214784,\n",
       "        69.38214784, 69.38214784, 69.38214784, 69.38214784, 69.38214784,\n",
       "        69.38214784, 69.38214784, 69.38214784, 69.38214784, 69.38214784,\n",
       "        69.38214784, 69.38214784, 69.38214784, 69.38214784, 69.38214784,\n",
       "        69.38214784, 69.38214784, 69.38214784, 69.38214784, 69.38214784,\n",
       "        69.38214784, 69.38214784, 69.38214784, 69.38214784, 69.38214784,\n",
       "        69.38214784, 69.38214784, 69.38214784, 69.38214784, 69.38214784,\n",
       "        69.38214784, 69.38214784, 69.38214784, 69.38214784, 69.38214784,\n",
       "        69.38214784, 69.38214784, 69.38214784, 69.38214784, 69.38214784,\n",
       "        69.38214784, 69.38214784, 69.38214784, 69.38214784, 69.38214784,\n",
       "        69.38214784, 69.38214784, 69.38214784, 69.38214784, 69.38214784,\n",
       "        69.38214784, 69.38214784, 69.38214784, 69.38214784, 69.38214784,\n",
       "        69.38214784, 69.38214784, 69.38214784, 69.38214784, 69.38214784,\n",
       "        69.38214784, 69.38214784, 69.38214784, 69.38214784, 69.38214784,\n",
       "        69.38214784, 69.38214784, 69.38214784, 69.38214784, 69.38214784,\n",
       "        69.38214784, 69.38214784, 69.38214784, 69.38214784, 69.38214784,\n",
       "        69.38214784, 69.38214784, 69.38214784, 69.38214784, 69.38214784,\n",
       "        69.38214784, 69.38214784, 69.38214784, 69.38214784, 69.38214784,\n",
       "        69.38214784, 69.38214784, 69.38214784, 69.38214784, 69.38214784,\n",
       "        69.38214784, 69.38214784, 69.38214784, 69.38214784, 69.38214784,\n",
       "        69.38214784, 69.38214784, 69.38214784, 69.38214784, 69.38214784,\n",
       "        69.38214784, 69.38214784, 69.38214784, 69.38214784, 69.38214784,\n",
       "        69.38214784, 69.38214784, 69.38214784, 69.38214784, 69.38214784,\n",
       "        69.38214784, 69.38214784, 69.38214784, 69.38214784, 69.38214784,\n",
       "        69.38214784, 69.38214784, 69.38214784, 69.38214784, 69.38214784,\n",
       "        69.38214784, 69.38214784, 69.38214784, 69.38214784, 69.38214784,\n",
       "        69.38214784, 69.38214784, 69.38214784, 69.38214784, 69.38214784,\n",
       "        69.38214784, 69.38214784, 69.38214784, 69.38214784, 69.38214784,\n",
       "        69.38214784, 69.38214784, 69.38214784, 69.38214784, 69.38214784,\n",
       "        69.38214784, 69.38214784, 69.38214784, 69.38214784, 69.38214784,\n",
       "        69.38214784, 69.38214784, 69.38214784, 69.38214784, 69.38214784,\n",
       "        69.38214784, 69.38214784, 69.38214784, 69.38214784, 69.38214784,\n",
       "        69.38214784, 69.38214784, 69.38214784, 69.38214784, 69.38214784,\n",
       "        69.38214784, 69.38214784, 69.38214784, 69.38214784, 69.38214784,\n",
       "        69.38214784, 69.38214784, 69.38214784, 69.38214784, 69.38214784,\n",
       "        69.38214784, 69.38214784, 69.38214784, 69.38214784, 69.38214784,\n",
       "        69.38214784, 69.38214784, 69.38214784, 69.38214784, 69.38214784,\n",
       "        69.38214784, 69.38214784, 69.38214784, 69.38214784, 69.38214784,\n",
       "        69.38214784, 69.38214784, 69.38214784, 69.38214784, 69.38214784,\n",
       "        69.38214784, 69.38214784, 69.38214784, 69.38214784, 69.38214784,\n",
       "        69.38214784, 69.38214784, 69.38214784, 69.38214784, 69.38214784,\n",
       "        69.38214784, 69.38214784, 69.38214784, 69.38214784, 69.38214784,\n",
       "        69.38214784, 69.38214784, 69.38214784, 69.38214784, 69.38214784,\n",
       "        69.38214784, 69.38214784, 69.38214784, 69.38214784, 69.38214784,\n",
       "        69.38214784, 69.38214784, 69.38214784, 69.38214784, 69.38214784,\n",
       "        69.38214784, 69.38214784, 69.38214784, 69.38214784, 69.38214784,\n",
       "        69.38214784, 69.38214784, 69.38214784, 69.38214784, 69.38214784,\n",
       "        69.38214784, 69.38214784, 69.38214784, 69.38214784, 69.38214784,\n",
       "        69.38214784, 69.38214784, 69.38214784, 69.38214784, 69.38214784,\n",
       "        69.38214784, 69.38214784, 69.38214784, 69.38214784, 69.38214784,\n",
       "        69.38214784, 69.38214784, 69.38214784, 69.38214784, 69.38214784,\n",
       "        69.38214784, 69.38214784, 69.38214784, 69.38214784, 69.38214784,\n",
       "        69.38214784, 69.38214784, 69.38214784, 69.38214784, 69.38214784,\n",
       "        69.38214784, 69.38214784, 69.38214784, 69.38214784, 69.38214784,\n",
       "        69.38214784, 69.38214784, 69.38214784, 69.38214784, 69.38214784,\n",
       "        69.38214784, 69.38214784, 69.38214784, 69.38214784, 69.38214784,\n",
       "        69.38214784, 69.38214784, 69.38214784, 69.38214784, 69.38214784,\n",
       "        69.38214784, 69.38214784, 69.38214784, 69.38214784, 69.38214784,\n",
       "        69.38214784, 69.38214784, 69.38214784, 69.38214784, 69.38214784,\n",
       "        69.38214784, 69.38214784, 69.38214784, 69.38214784, 69.38214784,\n",
       "        69.38214784, 69.38214784, 69.38214784, 69.38214784, 69.38214784,\n",
       "        69.38214784, 69.38214784, 69.38214784, 69.38214784, 69.38214784,\n",
       "        69.38214784, 69.38214784, 69.38214784, 69.38214784, 69.38214784,\n",
       "        69.38214784, 69.38214784, 69.38214784]))"
      ]
     },
     "execution_count": 52,
     "metadata": {},
     "output_type": "execute_result"
    }
   ],
   "source": [
    "strategies[0], test_num_impute(strategies[0])"
   ]
  },
  {
   "cell_type": "code",
   "execution_count": 53,
   "id": "e0dd49e8",
   "metadata": {},
   "outputs": [
    {
     "data": {
      "text/plain": [
       "('median',\n",
       " array([56., 56., 56., 56., 56., 56., 56., 56., 56., 56., 56., 56., 56.,\n",
       "        56., 56., 56., 56., 56., 56., 56., 56., 56., 56., 56., 56., 56.,\n",
       "        56., 56., 56., 56., 56., 56., 56., 56., 56., 56., 56., 56., 56.,\n",
       "        56., 56., 56., 56., 56., 56., 56., 56., 56., 56., 56., 56., 56.,\n",
       "        56., 56., 56., 56., 56., 56., 56., 56., 56., 56., 56., 56., 56.,\n",
       "        56., 56., 56., 56., 56., 56., 56., 56., 56., 56., 56., 56., 56.,\n",
       "        56., 56., 56., 56., 56., 56., 56., 56., 56., 56., 56., 56., 56.,\n",
       "        56., 56., 56., 56., 56., 56., 56., 56., 56., 56., 56., 56., 56.,\n",
       "        56., 56., 56., 56., 56., 56., 56., 56., 56., 56., 56., 56., 56.,\n",
       "        56., 56., 56., 56., 56., 56., 56., 56., 56., 56., 56., 56., 56.,\n",
       "        56., 56., 56., 56., 56., 56., 56., 56., 56., 56., 56., 56., 56.,\n",
       "        56., 56., 56., 56., 56., 56., 56., 56., 56., 56., 56., 56., 56.,\n",
       "        56., 56., 56., 56., 56., 56., 56., 56., 56., 56., 56., 56., 56.,\n",
       "        56., 56., 56., 56., 56., 56., 56., 56., 56., 56., 56., 56., 56.,\n",
       "        56., 56., 56., 56., 56., 56., 56., 56., 56., 56., 56., 56., 56.,\n",
       "        56., 56., 56., 56., 56., 56., 56., 56., 56., 56., 56., 56., 56.,\n",
       "        56., 56., 56., 56., 56., 56., 56., 56., 56., 56., 56., 56., 56.,\n",
       "        56., 56., 56., 56., 56., 56., 56., 56., 56., 56., 56., 56., 56.,\n",
       "        56., 56., 56., 56., 56., 56., 56., 56., 56., 56., 56., 56., 56.,\n",
       "        56., 56., 56., 56., 56., 56., 56., 56., 56., 56., 56., 56., 56.,\n",
       "        56., 56., 56., 56., 56., 56., 56., 56., 56., 56., 56., 56., 56.,\n",
       "        56., 56., 56., 56., 56., 56., 56., 56., 56., 56., 56., 56., 56.,\n",
       "        56., 56., 56., 56., 56., 56., 56., 56., 56., 56., 56., 56., 56.,\n",
       "        56., 56., 56., 56., 56., 56., 56., 56., 56., 56., 56., 56., 56.,\n",
       "        56., 56., 56., 56., 56., 56., 56., 56., 56., 56., 56., 56., 56.,\n",
       "        56., 56., 56., 56., 56., 56., 56., 56., 56., 56., 56., 56., 56.,\n",
       "        56., 56., 56., 56., 56., 56., 56., 56., 56., 56., 56., 56., 56.,\n",
       "        56., 56., 56., 56., 56., 56., 56., 56., 56., 56., 56., 56., 56.,\n",
       "        56., 56., 56., 56., 56., 56., 56., 56., 56., 56., 56., 56., 56.,\n",
       "        56., 56., 56., 56., 56., 56., 56., 56., 56., 56., 56., 56., 56.,\n",
       "        56., 56., 56., 56., 56., 56., 56., 56., 56., 56., 56., 56., 56.,\n",
       "        56., 56., 56., 56., 56., 56., 56., 56., 56., 56., 56., 56., 56.,\n",
       "        56., 56., 56., 56., 56., 56., 56., 56., 56., 56., 56., 56., 56.,\n",
       "        56., 56., 56., 56., 56., 56., 56., 56., 56., 56., 56., 56., 56.,\n",
       "        56., 56., 56., 56., 56., 56., 56., 56., 56., 56., 56., 56., 56.,\n",
       "        56., 56., 56., 56., 56., 56., 56., 56., 56., 56., 56., 56., 56.,\n",
       "        56., 56., 56., 56., 56., 56., 56., 56., 56., 56., 56., 56., 56.,\n",
       "        56., 56., 56., 56., 56., 56., 56., 56., 56., 56., 56., 56., 56.,\n",
       "        56., 56., 56., 56., 56., 56., 56., 56., 56., 56., 56., 56., 56.,\n",
       "        56., 56., 56., 56., 56., 56., 56., 56., 56., 56., 56., 56., 56.,\n",
       "        56., 56., 56., 56., 56., 56., 56., 56., 56., 56., 56., 56., 56.,\n",
       "        56., 56., 56., 56., 56.]))"
      ]
     },
     "execution_count": 53,
     "metadata": {},
     "output_type": "execute_result"
    }
   ],
   "source": [
    "strategies[1], test_num_impute(strategies[1])"
   ]
  },
  {
   "cell_type": "code",
   "execution_count": 54,
   "id": "972d2a12",
   "metadata": {},
   "outputs": [
    {
     "data": {
      "text/plain": [
       "('most_frequent',\n",
       " array([64., 64., 64., 64., 64., 64., 64., 64., 64., 64., 64., 64., 64.,\n",
       "        64., 64., 64., 64., 64., 64., 64., 64., 64., 64., 64., 64., 64.,\n",
       "        64., 64., 64., 64., 64., 64., 64., 64., 64., 64., 64., 64., 64.,\n",
       "        64., 64., 64., 64., 64., 64., 64., 64., 64., 64., 64., 64., 64.,\n",
       "        64., 64., 64., 64., 64., 64., 64., 64., 64., 64., 64., 64., 64.,\n",
       "        64., 64., 64., 64., 64., 64., 64., 64., 64., 64., 64., 64., 64.,\n",
       "        64., 64., 64., 64., 64., 64., 64., 64., 64., 64., 64., 64., 64.,\n",
       "        64., 64., 64., 64., 64., 64., 64., 64., 64., 64., 64., 64., 64.,\n",
       "        64., 64., 64., 64., 64., 64., 64., 64., 64., 64., 64., 64., 64.,\n",
       "        64., 64., 64., 64., 64., 64., 64., 64., 64., 64., 64., 64., 64.,\n",
       "        64., 64., 64., 64., 64., 64., 64., 64., 64., 64., 64., 64., 64.,\n",
       "        64., 64., 64., 64., 64., 64., 64., 64., 64., 64., 64., 64., 64.,\n",
       "        64., 64., 64., 64., 64., 64., 64., 64., 64., 64., 64., 64., 64.,\n",
       "        64., 64., 64., 64., 64., 64., 64., 64., 64., 64., 64., 64., 64.,\n",
       "        64., 64., 64., 64., 64., 64., 64., 64., 64., 64., 64., 64., 64.,\n",
       "        64., 64., 64., 64., 64., 64., 64., 64., 64., 64., 64., 64., 64.,\n",
       "        64., 64., 64., 64., 64., 64., 64., 64., 64., 64., 64., 64., 64.,\n",
       "        64., 64., 64., 64., 64., 64., 64., 64., 64., 64., 64., 64., 64.,\n",
       "        64., 64., 64., 64., 64., 64., 64., 64., 64., 64., 64., 64., 64.,\n",
       "        64., 64., 64., 64., 64., 64., 64., 64., 64., 64., 64., 64., 64.,\n",
       "        64., 64., 64., 64., 64., 64., 64., 64., 64., 64., 64., 64., 64.,\n",
       "        64., 64., 64., 64., 64., 64., 64., 64., 64., 64., 64., 64., 64.,\n",
       "        64., 64., 64., 64., 64., 64., 64., 64., 64., 64., 64., 64., 64.,\n",
       "        64., 64., 64., 64., 64., 64., 64., 64., 64., 64., 64., 64., 64.,\n",
       "        64., 64., 64., 64., 64., 64., 64., 64., 64., 64., 64., 64., 64.,\n",
       "        64., 64., 64., 64., 64., 64., 64., 64., 64., 64., 64., 64., 64.,\n",
       "        64., 64., 64., 64., 64., 64., 64., 64., 64., 64., 64., 64., 64.,\n",
       "        64., 64., 64., 64., 64., 64., 64., 64., 64., 64., 64., 64., 64.,\n",
       "        64., 64., 64., 64., 64., 64., 64., 64., 64., 64., 64., 64., 64.,\n",
       "        64., 64., 64., 64., 64., 64., 64., 64., 64., 64., 64., 64., 64.,\n",
       "        64., 64., 64., 64., 64., 64., 64., 64., 64., 64., 64., 64., 64.,\n",
       "        64., 64., 64., 64., 64., 64., 64., 64., 64., 64., 64., 64., 64.,\n",
       "        64., 64., 64., 64., 64., 64., 64., 64., 64., 64., 64., 64., 64.,\n",
       "        64., 64., 64., 64., 64., 64., 64., 64., 64., 64., 64., 64., 64.,\n",
       "        64., 64., 64., 64., 64., 64., 64., 64., 64., 64., 64., 64., 64.,\n",
       "        64., 64., 64., 64., 64., 64., 64., 64., 64., 64., 64., 64., 64.,\n",
       "        64., 64., 64., 64., 64., 64., 64., 64., 64., 64., 64., 64., 64.,\n",
       "        64., 64., 64., 64., 64., 64., 64., 64., 64., 64., 64., 64., 64.,\n",
       "        64., 64., 64., 64., 64., 64., 64., 64., 64., 64., 64., 64., 64.,\n",
       "        64., 64., 64., 64., 64., 64., 64., 64., 64., 64., 64., 64., 64.,\n",
       "        64., 64., 64., 64., 64., 64., 64., 64., 64., 64., 64., 64., 64.,\n",
       "        64., 64., 64., 64., 64.]))"
      ]
     },
     "execution_count": 54,
     "metadata": {},
     "output_type": "execute_result"
    }
   ],
   "source": [
    "strategies[2], test_num_impute(strategies[2])"
   ]
  },
  {
   "cell_type": "code",
   "execution_count": 55,
   "id": "5fa1520c",
   "metadata": {},
   "outputs": [],
   "source": [
    "def test_num_impute_col(dataset, column, strategy_param):\n",
    "    temp_data = dataset[[column]]\n",
    "    \n",
    "    indicator = MissingIndicator()\n",
    "    mask_missing_values_only = indicator.fit_transform(temp_data)\n",
    "    \n",
    "    imp_num = SimpleImputer(strategy=strategy_param)\n",
    "    data_num_imp = imp_num.fit_transform(temp_data)\n",
    "    \n",
    "    filled_data = data_num_imp[mask_missing_values_only]\n",
    "    \n",
    "    return column, strategy_param, filled_data.size, filled_data[0], filled_data[filled_data.size-1]"
   ]
  },
  {
   "cell_type": "code",
   "execution_count": 58,
   "id": "249467a6",
   "metadata": {},
   "outputs": [
    {
     "data": {
      "text/html": [
       "<div>\n",
       "<style scoped>\n",
       "    .dataframe tbody tr th:only-of-type {\n",
       "        vertical-align: middle;\n",
       "    }\n",
       "\n",
       "    .dataframe tbody tr th {\n",
       "        vertical-align: top;\n",
       "    }\n",
       "\n",
       "    .dataframe thead th {\n",
       "        text-align: right;\n",
       "    }\n",
       "</style>\n",
       "<table border=\"1\" class=\"dataframe\">\n",
       "  <thead>\n",
       "    <tr style=\"text-align: right;\">\n",
       "      <th></th>\n",
       "      <th>TMUs</th>\n",
       "    </tr>\n",
       "  </thead>\n",
       "  <tbody>\n",
       "    <tr>\n",
       "      <th>count</th>\n",
       "      <td>2868.000000</td>\n",
       "    </tr>\n",
       "    <tr>\n",
       "      <th>mean</th>\n",
       "      <td>69.382148</td>\n",
       "    </tr>\n",
       "    <tr>\n",
       "      <th>std</th>\n",
       "      <td>54.431844</td>\n",
       "    </tr>\n",
       "    <tr>\n",
       "      <th>min</th>\n",
       "      <td>1.000000</td>\n",
       "    </tr>\n",
       "    <tr>\n",
       "      <th>25%</th>\n",
       "      <td>24.000000</td>\n",
       "    </tr>\n",
       "    <tr>\n",
       "      <th>50%</th>\n",
       "      <td>56.000000</td>\n",
       "    </tr>\n",
       "    <tr>\n",
       "      <th>75%</th>\n",
       "      <td>104.000000</td>\n",
       "    </tr>\n",
       "    <tr>\n",
       "      <th>max</th>\n",
       "      <td>384.000000</td>\n",
       "    </tr>\n",
       "  </tbody>\n",
       "</table>\n",
       "</div>"
      ],
      "text/plain": [
       "              TMUs\n",
       "count  2868.000000\n",
       "mean     69.382148\n",
       "std      54.431844\n",
       "min       1.000000\n",
       "25%      24.000000\n",
       "50%      56.000000\n",
       "75%     104.000000\n",
       "max     384.000000"
      ]
     },
     "execution_count": 58,
     "metadata": {},
     "output_type": "execute_result"
    }
   ],
   "source": [
    "data[['TMUs']].describe()"
   ]
  },
  {
   "cell_type": "code",
   "execution_count": 59,
   "id": "8439394c",
   "metadata": {},
   "outputs": [
    {
     "data": {
      "text/plain": [
       "('TMUs', 'mean', 538, 69.38214783821478, 69.38214783821478)"
      ]
     },
     "execution_count": 59,
     "metadata": {},
     "output_type": "execute_result"
    }
   ],
   "source": [
    "test_num_impute_col(data, 'TMUs', strategies[0])"
   ]
  },
  {
   "cell_type": "code",
   "execution_count": 60,
   "id": "4bc1fadd",
   "metadata": {},
   "outputs": [
    {
     "data": {
      "text/plain": [
       "('TMUs', 'median', 538, 56.0, 56.0)"
      ]
     },
     "execution_count": 60,
     "metadata": {},
     "output_type": "execute_result"
    }
   ],
   "source": [
    "test_num_impute_col(data, 'TMUs', strategies[1])"
   ]
  },
  {
   "cell_type": "code",
   "execution_count": 61,
   "id": "e4c6ed4f",
   "metadata": {},
   "outputs": [
    {
     "data": {
      "text/plain": [
       "('TMUs', 'most_frequent', 538, 64.0, 64.0)"
      ]
     },
     "execution_count": 61,
     "metadata": {},
     "output_type": "execute_result"
    }
   ],
   "source": [
    "test_num_impute_col(data, 'TMUs', strategies[2])"
   ]
  },
  {
   "cell_type": "code",
   "execution_count": 62,
   "id": "368e8ab7",
   "metadata": {},
   "outputs": [],
   "source": [
    "from sklearn.preprocessing import MinMaxScaler, StandardScaler, Normalizer"
   ]
  },
  {
   "cell_type": "code",
   "execution_count": 63,
   "id": "9dc9aa41",
   "metadata": {},
   "outputs": [],
   "source": [
    "sc1 = MinMaxScaler()\n",
    "sc1_data = sc1.fit_transform(data[['TMUs']])"
   ]
  },
  {
   "cell_type": "code",
   "execution_count": 65,
   "id": "a6c4727d",
   "metadata": {},
   "outputs": [
    {
     "data": {
      "image/png": "[encoded data removed]",
      "text/plain": [
       "<Figure size 432x288 with 1 Axes>"
      ]
     },
     "metadata": {
      "needs_background": "light"
     },
     "output_type": "display_data"
    }
   ],
   "source": [
    "plt.hist(data['TMUs'], 50)\n",
    "plt.show()"
   ]
  },
  {
   "cell_type": "code",
   "execution_count": 66,
   "id": "fe9e3922",
   "metadata": {},
   "outputs": [
    {
     "data": {
      "image/png": "[encoded data removed]",
      "text/plain": [
       "<Figure size 432x288 with 1 Axes>"
      ]
     },
     "metadata": {
      "needs_background": "light"
     },
     "output_type": "display_data"
    }
   ],
   "source": [
    "plt.hist(sc1_data, 50)\n",
    "plt.show()"
   ]
  },
  {
   "cell_type": "code",
   "execution_count": 67,
   "id": "ee6b7d1f",
   "metadata": {},
   "outputs": [],
   "source": [
    "sc2 = StandardScaler()\n",
    "sc2_data = sc2.fit_transform(data[['DVI_Connection']])"
   ]
  },
  {
   "cell_type": "code",
   "execution_count": 68,
   "id": "05aa4114",
   "metadata": {},
   "outputs": [
    {
     "data": {
      "image/png": "[encoded data removed]",
      "text/plain": [
       "<Figure size 432x288 with 1 Axes>"
      ]
     },
     "metadata": {
      "needs_background": "light"
     },
     "output_type": "display_data"
    }
   ],
   "source": [
    "plt.hist(sc2_data, 50)\n",
    "plt.show()"
   ]
  },
  {
   "cell_type": "code",
   "execution_count": null,
   "id": "8745186d",
   "metadata": {},
   "outputs": [],
   "source": []
  }
 ],
 "metadata": {
  "kernelspec": {
   "display_name": "Python 3",
   "language": "python",
   "name": "python3"
  },
  "language_info": {
   "codemirror_mode": {
    "name": "ipython",
    "version": 3
   },
   "file_extension": ".py",
   "mimetype": "text/x-python",
   "name": "python",
   "nbconvert_exporter": "python",
   "pygments_lexer": "ipython3",
   "version": "3.8.8"
  }
 },
 "nbformat": 4,
 "nbformat_minor": 5
}
